{
 "cells": [
  {
   "cell_type": "markdown",
   "id": "7f11e067-edf2-44e9-9e64-7e46c5ce89e9",
   "metadata": {},
   "source": [
    "# Unit 3: Applications"
   ]
  },
  {
   "cell_type": "markdown",
   "id": "ce253b6e-4509-49d4-8024-dcbd3f47a67f",
   "metadata": {},
   "source": [
    "## Areas and Volumes\n",
    "\n",
    "### ***Process for finding areas and volumes***\n",
    "### 1. Draw a picture\n",
    "### 2. Identify limits of integration\n",
    "### 3. Identify integrand\n",
    "### 4. Integrate to solve (as needed)\n",
    "\n",
    "### ***Volumes by slicing***\n",
    "### The volume of a slice of bread is\n",
    "## $$ dV = A(x) dx $$\n",
    "### where $dx$ is the width of the slice, and $A(x)$ is the cross-sectional area. The volume of the entire loaf is:\n",
    "## $$ V = \\int A(x) dx $$\n",
    "\n",
    "### ***Method of disks***\n",
    "![Method of disks](img/disks.png)\n",
    "### The method of disks gives the differential volume element for a curve rotated about the $x$-axis\n",
    "## $$ dV = \\pi y^2 dx $$\n",
    "\n",
    "### ***Method of shells***\n",
    "![Method of shells](img/shells.png)\n",
    "### The method of shells for a curve $y=f(x)$ rotated about $y$-axis:\n",
    "## $$ dV = 2 \\pi x y dx $$\n",
    "\n",
    "### ***Method of washers***\n",
    "![Method of shells](img/washers.png)\n",
    "### The volume of an infinitestimal washer is given by\n",
    "## $$ dV = \\pi (y_{\\text{outer}}^2 - y_{\\text{inner}}^2) dx $$\n",
    "\n"
   ]
  },
  {
   "cell_type": "code",
   "execution_count": null,
   "id": "e9ca1aaf-9b56-4e89-9155-acc507d7889e",
   "metadata": {},
   "outputs": [],
   "source": []
  }
 ],
 "metadata": {
  "kernelspec": {
   "display_name": "Python 3",
   "language": "python",
   "name": "python3"
  },
  "language_info": {
   "codemirror_mode": {
    "name": "ipython",
    "version": 3
   },
   "file_extension": ".py",
   "mimetype": "text/x-python",
   "name": "python",
   "nbconvert_exporter": "python",
   "pygments_lexer": "ipython3",
   "version": "3.8.8"
  }
 },
 "nbformat": 4,
 "nbformat_minor": 5
}
