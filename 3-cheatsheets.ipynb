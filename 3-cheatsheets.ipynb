{
 "cells": [
  {
   "cell_type": "markdown",
   "id": "7f11e067-edf2-44e9-9e64-7e46c5ce89e9",
   "metadata": {},
   "source": [
    "# Unit 3: Applications"
   ]
  },
  {
   "cell_type": "markdown",
   "id": "ce253b6e-4509-49d4-8024-dcbd3f47a67f",
   "metadata": {},
   "source": [
    "## Preparations\n",
    "\n",
    "### We can approximate the area between curves using Riemann sums of rectangles.\n",
    "![Preparation](img/area-1.png)\n",
    "\n",
    "### Two functions $f(x)$ and $g(x)$ are plotted in the first quadrant of the $x$-$y$ plane. The function $f(x)$ is greater than $g(x)$ for every $x$. The area between the two curves is approximated by five rectangles side-by-side.\n",
    "\n",
    "\n"
   ]
  },
  {
   "cell_type": "code",
   "execution_count": null,
   "id": "e9ca1aaf-9b56-4e89-9155-acc507d7889e",
   "metadata": {},
   "outputs": [],
   "source": []
  }
 ],
 "metadata": {
  "kernelspec": {
   "display_name": "Python 3",
   "language": "python",
   "name": "python3"
  },
  "language_info": {
   "codemirror_mode": {
    "name": "ipython",
    "version": 3
   },
   "file_extension": ".py",
   "mimetype": "text/x-python",
   "name": "python",
   "nbconvert_exporter": "python",
   "pygments_lexer": "ipython3",
   "version": "3.8.8"
  }
 },
 "nbformat": 4,
 "nbformat_minor": 5
}
