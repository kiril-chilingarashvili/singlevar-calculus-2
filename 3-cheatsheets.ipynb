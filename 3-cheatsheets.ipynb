{
 "cells": [
  {
   "cell_type": "markdown",
   "id": "7f11e067-edf2-44e9-9e64-7e46c5ce89e9",
   "metadata": {},
   "source": [
    "# Unit 3: Applications"
   ]
  },
  {
   "cell_type": "markdown",
   "id": "ce253b6e-4509-49d4-8024-dcbd3f47a67f",
   "metadata": {},
   "source": [
    "## Areas and Volumes\n",
    "\n",
    "### ***Process for finding areas and volumes***\n",
    "### 1. Draw a picture\n",
    "### 2. Identify limits of integration\n",
    "### 3. Identify integrand\n",
    "### 4. Integrate to solve (as needed)\n",
    "\n",
    "### ***Volumes by slicing***\n",
    "### The volume of a slice of bread is\n",
    "## $$ dV = A(x) dx $$\n",
    "### where $dx$ is the width of the slice, and $A(x)$ is the cross-sectional area. The volume of the entire loaf is:\n",
    "## $$ V = \\int A(x) dx $$\n",
    "\n",
    "### ***Method of disks***\n",
    "![Method of disks](img/disks.png)\n",
    "### The method of disks gives the differential volume element for a curve rotated about the $x$-axis\n",
    "## $$ dV = \\pi y^2 dx $$\n",
    "\n",
    "### ***Method of shells***\n",
    "![Method of shells](img/shells.png)\n",
    "### The method of shells for a curve $y=f(x)$ rotated about $y$-axis:\n",
    "## $$ dV = 2 \\pi x y dx $$\n",
    "\n",
    "### ***Method of washers***\n",
    "![Method of shells](img/washers.png)\n",
    "### The volume of an infinitestimal washer is given by\n",
    "## $$ dV = \\pi (y_{\\text{outer}}^2 - y_{\\text{inner}}^2) dx $$\n",
    "\n"
   ]
  },
  {
   "cell_type": "markdown",
   "id": "1ad44f77-951d-45fe-a54c-1c96b5f0e86f",
   "metadata": {},
   "source": [
    "## Average value\n",
    "\n",
    "### ***Average value of $f(x)$***\n",
    "\n",
    "### The average value of a function $f(x)$ on an interval $a \\leq x \\leq b$ is given by\n",
    "## $$ \\frac{1}{b - a} \\int_{a}^{b} f(x) dx $$\n",
    "\n",
    "### ***Average value and average rate of change***\n",
    "\n",
    "### Fundamental Theorem of calculus tells us that the average rate of change of $y$ over $a \\leq t \\leq b$ is the ***same*** as the average value of $y'$ over $a \\leq t \\leq b$.\n",
    "\n",
    "## $$ \\operatorname{ Ave }(y') = \\frac{1}{b-a} \\int_{a}^{b} y'(t) dt = \\frac{y(b) - y(a)}{b - a} $$\n",
    "## $$ = \\text{average rate of change of }\\, y(t) $$\n",
    "\n",
    "### ***Weighted average***\n",
    "### The ***weighted average*** value of a function $f(x)$, weighted by a weight function $w(x)$ on an interval $a \\leq x \\leq b$ is given by\n",
    "## $$ \\frac{\\int_{a}^{b} f(x) w(x) dx}{\\int_{a}^{b} w(x) dx} $$\n",
    "\n",
    "### ***Center of mass***\n",
    "\n",
    "### ***1-dimentional***\n",
    "### For a 1-dimensional rod of length $L$ with linear density function $\\lambda(x)$ (measured in mass per unit length), the center of mass is the weighted average:\n",
    "## $$ x_c = \\frac{\\int_{0}^{L} x \\lambda(x) dx}{\\int_{0}^{L} \\lambda(x) dx} $$\n",
    "\n",
    "### ***2-dimentional***\n",
    "### For a 2-dimensional region whose mass is proportional to area, the center of mass, or centroid $(\\bar{x}, \\bar{y})$, is the weighted average of the position with respect to the area. The $x$- and $y$- coordinates of the centroid are computed by the following integrals:\n",
    "## $$ \\bar{x} = \\frac{\\int_{a}^{b} x dA}{\\int_{a}^{b} dA} $$\n",
    "## $$ \\bar{y} = \\frac{\\int_{a}^{b} y dA}{\\int_{a}^{b} dA} $$\n",
    "### where $dA$ is the infinitesimal area, and we must define the limits of integration so that we integrate over the entire region with respect to $x$ or $y$ respectively."
   ]
  },
  {
   "cell_type": "code",
   "execution_count": null,
   "id": "7fc2aa7c-80d5-4fca-8fc6-353bba630cc2",
   "metadata": {},
   "outputs": [],
   "source": []
  }
 ],
 "metadata": {
  "kernelspec": {
   "display_name": "Python 3",
   "language": "python",
   "name": "python3"
  },
  "language_info": {
   "codemirror_mode": {
    "name": "ipython",
    "version": 3
   },
   "file_extension": ".py",
   "mimetype": "text/x-python",
   "name": "python",
   "nbconvert_exporter": "python",
   "pygments_lexer": "ipython3",
   "version": "3.8.8"
  }
 },
 "nbformat": 4,
 "nbformat_minor": 5
}
