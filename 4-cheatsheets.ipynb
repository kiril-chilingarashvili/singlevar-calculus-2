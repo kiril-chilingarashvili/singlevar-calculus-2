{
 "cells": [
  {
   "cell_type": "markdown",
   "id": "a6422fbe-586f-4e2c-b0c5-5328e44e8749",
   "metadata": {},
   "source": [
    "# Unit 4: Techniques of integration"
   ]
  },
  {
   "cell_type": "markdown",
   "id": "177d26ae-dbcc-4b0c-9cfb-ccd9ef0018f1",
   "metadata": {},
   "source": [
    "## Summary of formulas\n",
    "\n",
    "### ***Pythagorean theorem***\n",
    "\n",
    "## $$ \\cos^2(\\theta) + \\sin^2(\\theta) = 1 $$\n",
    "## $$ 1 + \\tan^2(\\theta) = \\sec^2(\\theta) \\quad (\\theta \\neq \\frac{\\pi}{2} + n \\pi) $$\n",
    "## $$ \\cot^2(\\theta) + 1 = \\csc^2(\\theta) \\quad (\\theta \\neq n \\pi) $$\n",
    "\n",
    "### ***The angle sum formulas***\n",
    "## $$ \\sin(a + b) = \\sin(a) \\cos(b) + \\sin(b) \\cos(a) $$\n",
    "## $$ \\cos(a + b) = \\cos(a) \\cos(b) - \\sin(a) \\sin(b) $$\n",
    "\n",
    "### ***The double angle formulas***\n",
    "## $$ \\sin(2a) = 2 \\sin(a) \\cos(a) $$\n",
    "## $$ \\cos(2a) = \\cos^2(a) - \\sin^2(a) $$\n",
    "\n",
    "### ***The half angle formulas***\n",
    "## $$ \\sin^2(a) = \\frac{1 - \\cos(2a)}{2} $$\n",
    "## $$ \\cos^2(a) = \\frac{1 + \\cos(2a)}{2} $$"
   ]
  },
  {
   "cell_type": "code",
   "execution_count": null,
   "id": "7c0ddafc-aa95-4eb4-bb0b-58ce692a467c",
   "metadata": {},
   "outputs": [],
   "source": []
  }
 ],
 "metadata": {
  "kernelspec": {
   "display_name": "Python 3",
   "language": "python",
   "name": "python3"
  },
  "language_info": {
   "codemirror_mode": {
    "name": "ipython",
    "version": 3
   },
   "file_extension": ".py",
   "mimetype": "text/x-python",
   "name": "python",
   "nbconvert_exporter": "python",
   "pygments_lexer": "ipython3",
   "version": "3.8.8"
  }
 },
 "nbformat": 4,
 "nbformat_minor": 5
}
