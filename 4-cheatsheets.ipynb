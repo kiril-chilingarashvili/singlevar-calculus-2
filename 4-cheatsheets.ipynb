{
 "cells": [
  {
   "cell_type": "markdown",
   "id": "a6422fbe-586f-4e2c-b0c5-5328e44e8749",
   "metadata": {},
   "source": [
    "# Unit 4: Techniques of integration"
   ]
  },
  {
   "cell_type": "markdown",
   "id": "177d26ae-dbcc-4b0c-9cfb-ccd9ef0018f1",
   "metadata": {},
   "source": [
    "## Summary of formulas\n",
    "\n",
    "### ***Pythagorean theorem***\n",
    "\n",
    "## $$ \\cos^2(\\theta) + \\sin^2(\\theta) = 1 $$\n",
    "## $$ 1 + \\tan^2(\\theta) = \\sec^2(\\theta) \\quad (\\theta \\neq \\frac{\\pi}{2} + n \\pi) $$\n",
    "## $$ \\cot^2(\\theta) + 1 = \\csc^2(\\theta) \\quad (\\theta \\neq n \\pi) $$\n",
    "\n",
    "### ***The angle sum formulas***\n",
    "## $$ \\sin(a + b) = \\sin(a) \\cos(b) + \\sin(b) \\cos(a) $$\n",
    "## $$ \\cos(a + b) = \\cos(a) \\cos(b) - \\sin(a) \\sin(b) $$\n",
    "\n",
    "### ***The double angle formulas***\n",
    "## $$ \\sin(2a) = 2 \\sin(a) \\cos(a) $$\n",
    "## $$ \\cos(2a) = \\cos^2(a) - \\sin^2(a) $$\n",
    "\n",
    "### ***The half angle formulas***\n",
    "## $$ \\sin^2(a) = \\frac{1 - \\cos(2a)}{2} $$\n",
    "## $$ \\cos^2(a) = \\frac{1 + \\cos(2a)}{2} $$"
   ]
  },
  {
   "cell_type": "markdown",
   "id": "d0c0fd16-656d-4e57-a4c2-d3fb445f4fdb",
   "metadata": {},
   "source": [
    "### ***Integral with two even positive exponents***\n",
    "\n",
    "### To evaluate\n",
    "\n",
    "## $$ \\int \\sin^{2m} (x) \\cos^{2n}(x) dx, \\quad 2m, 2n > 0 \\, \\text{even integers} $$\n",
    "### we apply the half angle formulas to the integrand as many times as needed, until the integrand does not contain any non-constant term in which both exponents of $\\cos$ and $\\sin$ are even, but instead may contain terms with odd powers of $\\sin(2kx)$ and $\\cos(2lx)$ where $2k$ and $2l$ are even integers."
   ]
  },
  {
   "cell_type": "markdown",
   "id": "e24db509-419a-4a53-afd4-971d9511cc63",
   "metadata": {},
   "source": [
    "### ***Integrals with an odd positive power of tangent***\n",
    "### Integrals of the form\n",
    "\n",
    "## $$ \\int \\tan^{2m+1}(x) \\sec^n(x) dx \\quad \\text{with }\\,n\\,\\text{real},\\,2m+1\\geq 1 \\, \\text{odd integer} $$\n",
    "## $$ \\int \\cot^{2m+1}(x) \\csc^n(x) dx \\quad \\text{with }\\,n\\,\\text{real},\\,2m+1\\geq 1 \\, \\text{odd integer} $$\n",
    "\n",
    "### are not new, since\n",
    "\n",
    "## $$ \\tan^{2m+1}(x) \\sec^n(x) = \\sin^{2m+1}(x)\\cos^{-(n+2m+1)}(x) \\quad (\\text{with }\\,n\\,\\text{real},\\,2m+1\\geq 1 \\, \\text{odd integer}) $$\n",
    "## $$ \\cot^{2m+1}(x) \\csc^n(x) = \\cos^{2m+1}(x)\\sin^{-(n+2m+1)}(x) \\quad (\\text{with }\\,n\\,\\text{real},\\,2m+1\\geq 1 \\, \\text{odd integer}) $$\n",
    "\n",
    "### and we already know how to evaluate these integrals using the substitutions $u = \\cos(x)$ and $u = \\sin(x)$ respectively.\n",
    "\n",
    "### We now use alternate substitutions:\n",
    "\n",
    "## $$ \\int \\tan^{2m+1}(x) \\sec^n(x) dx : \\quad \\text{use}\\, u = \\sec(x) \\quad (\\text{with }\\,n\\,\\text{real},\\,2m+1\\geq 1 \\, \\text{odd integer}) $$\n",
    "## $$ \\int \\cot^{2m+1}(x) \\csc^n(x) dx : \\quad \\text{use}\\, u = \\csc(x) \\quad (\\text{with }\\,n\\,\\text{real},\\,2m+1\\geq 1 \\, \\text{odd integer}) $$\n",
    "\n"
   ]
  },
  {
   "cell_type": "markdown",
   "id": "5c5bb8d9-c6bd-49c8-bafa-ece0befd919b",
   "metadata": {},
   "source": [
    "## Integral of secant\n",
    "\n",
    "### Observe that\n",
    "## $$ \\frac{d}{dx} (\\sec(x) + \\tan(x)) = \\sec(x) \\tan(x) + \\sec^2(x) = \\sec(x) (\\tan(x) + \\sec(x)) $$\n",
    "\n",
    "### This implies\n",
    "## $$ \\sec(x) = \\frac{u'}{u} \\quad \\text{where} \\, u = \\sec(x) + \\tan(x) $$\n",
    "\n",
    "### Integrating both sides, we get\n",
    "## $$ \\int \\sec(x) dx = \\int \\frac{du}{u} \\quad \\text{where}\\, u = \\sec(x) + \\tan(x) $$\n",
    "## $$ = \\ln|u| + C $$\n",
    "## $$ =\\ln|\\sec(x) + \\tan(x)| + C $$"
   ]
  },
  {
   "cell_type": "markdown",
   "id": "a486a084-2b0d-4a3d-b8e9-9eec89b343d4",
   "metadata": {},
   "source": [
    "## Integrals with an even positive power of secant\n",
    "\n",
    "### Let $2m \\geq 2$ be a positive even integer, and $n$ any real number\n",
    "### To evaluate integrals with an even positive power of $\\sec$,\n",
    "## $$ \\int \\sec^{2m}(x)\\tan^n(x)dx \\quad (2m \\geq 2 \\, \\text{positive integer},\\, n \\, \\text{real}) $$\n",
    "### we can use substitution with $u = \\tan(x)$, with $du = \\sec^2(x) dx$, and then use the identity\n",
    "## $$ \\sec^2(x) = 1 + \\tan^2(x) \\quad (x \\neq \\frac{\\pi}{2} + k \\pi) $$\n",
    "\n",
    "### to rewrite the integrand in terms of only $u$\n",
    "\n",
    "### Similarly, to evaluate integral with even positive power of $\\csc$,\n",
    "## $$ \\int \\csc^{2m}(x)\\cot^n(x)dx \\quad (2m \\geq 2 \\, \\text{positive integer},\\, n \\, \\text{real}) $$\n",
    "### we can use the substitution $u = \\cot(x)$ and the identity\n",
    "## $$ \\csc^2(x) = 1 + \\cot^2(x), \\quad (x\\neq n \\pi) $$"
   ]
  },
  {
   "cell_type": "markdown",
   "id": "bd995520-e052-4407-b46c-7c8b028ddd89",
   "metadata": {},
   "source": [
    "## More even negative exponent\n",
    "\n",
    "### So far we know how to integrate\n",
    "## $$ \\int \\sin^n(x) \\cos^m(x) dx $$\n",
    "### when\n",
    "### 1. one of $n$ and $m$ is an odd positive integer (and the other can be any real number);\n",
    "### 2. both $n$ and $m$ are even positive integers.\n",
    "\n",
    "### The integrals we just discussed,\n",
    "## $$ \\int \\sec^{2m}(x) \\tan^n(x) dx \\quad (2m \\geq 2 \\, \\text{positive integer},\\, n \\, \\text{real}) $$\n",
    "## $$ \\int \\csc^{2m}(x) \\cot^n(x) dx \\quad (2m \\geq 2 \\, \\text{positive integer},\\, n \\, \\text{real}) $$\n",
    "### can be rewritten into \n",
    "## $$ \\int \\sin^n(x) \\cos^m(x) dx $$\n"
   ]
  },
  {
   "cell_type": "markdown",
   "id": "6bb68488-65e4-4f69-8d32-a73d3cea58f3",
   "metadata": {},
   "source": [
    "## Higher power in numerator\n",
    "\n",
    "### So far, we can evaluate integrals involving fractions of powers of $\\cos$ and $\\sin$\n",
    "## $$ \\int \\frac{\\sin^n(x)}{\\cos^k(x)} dx \\quad \\text{with}\\, n, k \\geq 0 $$\n",
    "## $$ \\int \\frac{\\cos^n(x)}{\\sin^k(x)} dx \\quad \\text{with}\\, n, k \\geq 0 $$\n",
    "\n",
    "### in the following two cases:\n",
    "\n",
    "### 1. When $n$ is a positive odd integer, use the substitutions \n",
    "## $$ u=\\cos(x) \\quad \\text{for} \\quad \\int \\frac{\\sin^n(x)}{\\cos^k(x)} dx \\quad \\text{and}  $$\n",
    "## $$ u=\\sin(x) \\quad \\text{for} \\quad \\int \\frac{\\cos^n(x)}{\\sin^k(x)} dx $$\n",
    "\n",
    "### 2. When $n-k$ is a negative even integer (so in particular $k > n$), rewrite the integrals as\n",
    "## $$ \\int \\tan^n(x) \\sec^{2m}(x) dx \\quad \\text{or} $$\n",
    "## $$ \\int \\cot^n(x) csc^{2m}(x) dx $$\n",
    "### and use substitution \n",
    "## $$ u = \\tan(x) or $$\n",
    "## $$ u = \\cot(x) $$\n",
    "\n",
    "### These do not cover the case when the exponent in the numerator is greater than the exponent in the denominator,\n",
    "## $$ \\int \\frac{\\sin^n(x)}{\\cos^k(x)} dx \\quad \\text{with}\\, n > k > 0 $$\n",
    "## $$ \\int \\frac{\\cos^n(x)}{\\sin^k(x)} dx \\quad \\text{with}\\, n > k > 0 $$\n",
    "### Let us end this section with one of these integrals."
   ]
  },
  {
   "cell_type": "markdown",
   "id": "d439fe16-9bab-4dc8-98db-a39346b96c07",
   "metadata": {},
   "source": [
    "## $$ \\int \\tan^2(y)sin^2(y) dy $$"
   ]
  },
  {
   "cell_type": "markdown",
   "id": "bfe4efa9-ae6b-4609-8b16-e7d7793fd06b",
   "metadata": {},
   "source": [
    "![Solution](img/IMG_0097.PNG)"
   ]
  },
  {
   "cell_type": "markdown",
   "id": "3421b01d-56b2-4512-a664-3bd011ee6f52",
   "metadata": {},
   "source": [
    "## Some integrals evaluated in this section\n",
    "\n",
    "## $$ \\int \\sec^2(x) dx = \\tan(x) + C $$\n",
    "## $$ \\int \\csc^2(x) dx = -\\cot(x) + C $$\n",
    "## $$ \\int \\sec(x) \\tan(x) dx = \\sec(x) + C $$\n",
    "## $$ \\int \\csc(x) \\cot(x) dx = -\\csc(x) + C $$\n",
    "## $$ \\int \\tan(x) dx = -\\ln|\\cos(x)| + C $$\n",
    "## $$ \\int \\cot(x) dx = \\ln|\\sin(x)| + C $$\n",
    "## $$ \\int \\sec(x) dx = \\ln|\\sec(x) + \\tan(x)| + C $$\n",
    "## $$ \\int \\csc(x) dx = -\\ln|csc(x) + \\cot(x)| + C $$"
   ]
  },
  {
   "cell_type": "markdown",
   "id": "a04b4a73-d4a5-4eed-bcd4-789e6ea89e91",
   "metadata": {},
   "source": [
    "## Factorial\n",
    "### Let $m$ be a non-negative integer.\n",
    "\n",
    "### Define the ***factorial*** of $m$, denoted by $m!$ to be\n",
    "## $$ m! = \\left\\{ \\begin{array} \\ 1 & \\text{if}\\, m = 0 \\\\ m (m - 1) (m - 2) \\ldots (3) (2) (1) & \\text{if}\\,m>0 \\end{array} \\right. $$\n",
    "### For example: $4! = (4) (3) (2) (1) = 24$"
   ]
  },
  {
   "cell_type": "markdown",
   "id": "1b37c9b7-3b1d-4a43-aa41-164499bfb00c",
   "metadata": {},
   "source": [
    "## Binomial coefficient\n",
    "### Let $m$ and $k$ be non-negative integers, and let $k \\leq m$.\n",
    "### Define the ***binomial coefficient*** \"$m$ choose $k$\", denoted by $\\begin{pmatrix} m \\\\ k \\end{pmatrix}$, to be:\n",
    "## $$ \\begin{pmatrix} m \\\\ k \\end{pmatrix} = \\frac{m!}{(m-k)!k!} \\quad (\\text{\"m choose k\"}) $$\n",
    "\n",
    "### For example,\n",
    "## $$ \\begin{pmatrix} 4 \\\\ 0 \\end{pmatrix} = \\frac{4!}{4!0!} = 1 \\quad (0! = 1) $$\n",
    "## $$ \\begin{pmatrix} 4 \\\\ 1 \\end{pmatrix} = \\frac{4!}{3!1!} = \\frac{(4) (3) (2)}{(3) (2)} = 4 $$\n",
    "## $$ \\begin{pmatrix} 4 \\\\ 2 \\end{pmatrix} = \\frac{4!}{2!2!} = \\frac{(4) (3) (2)}{(2) (2)} = 6 $$\n",
    "## $$ \\begin{pmatrix} 4 \\\\ 3 \\end{pmatrix} = \\frac{4!}{1!3!} = \\frac{(4) (3) (2)}{(3) (2)} = 4 $$\n",
    "## $$ \\begin{pmatrix} 4 \\\\ 4 \\end{pmatrix} = \\frac{4!}{0!4!} = 1 $$\n",
    "\n",
    "### When $m$ is large, we simplify $\\begin{pmatrix} m \\\\ k \\end{pmatrix}$ by expanding the factorials and cancelling the same factors in the numerator and denominator.\n",
    "\n",
    "### For example,\n",
    "## $$ \\begin{pmatrix} 10 \\\\ 4 \\end{pmatrix} = \\frac{10!}{6!4!} $$\n",
    "## $$ = \\frac{(10) (9) (8) (7) 6!}{6! 4!} $$\n",
    "## $$ = \\frac{(10) (9) (8) (7)}{(4) (3) (2)} \\quad (\\text{cancel}\\,6!) $$\n"
   ]
  },
  {
   "cell_type": "markdown",
   "id": "6434114d-bfdd-43fd-8859-ae629b339c7c",
   "metadata": {},
   "source": [
    "## Binomial theorem\n",
    "\n",
    "### The ***binomial theorem*** says that\n",
    "## $$ (1 + y)^m = \\sum_{k=0}^{m} \\begin{pmatrix} m \\\\ k \\end{pmatrix} y^k = \\sum_{k=0}^{m} \\frac{m!}{(m-k)! k!} $$\n",
    "### In other words, in the expansion of $(1+y)^m$, the coefficient of $y^k$ is $\\begin{pmatrix} m \\\\ k \\end{pmatrix}$.\n",
    "### For example: the coefficient of $y^2$ in $(1+y)^3$ is $\\begin{pmatrix} 3 \\\\ 2 \\end{pmatrix} = \\frac{3!}{1!2!} = 3$, as expected."
   ]
  },
  {
   "cell_type": "markdown",
   "id": "631876c4-c64b-442c-9d51-41cb00bfb376",
   "metadata": {},
   "source": [
    "![Example](img/example-2.jpg)"
   ]
  },
  {
   "cell_type": "markdown",
   "id": "bc244703-be1b-4475-bea6-fcb779330073",
   "metadata": {},
   "source": [
    "## General formula for integral with one positive odd exponent of sine or cosine\n",
    "\n",
    "### Let $2m+1$ be any positive integer and $n$ any real number such that $n \\neq -(2k + 1)$ for any integer $k$ such that $0 \\leq k \\leq m$, we obtain the following formulas:\n",
    "\n",
    "## $$ \\int \\cos^{2m+1}(x) \\sin^n(x) dx = \\sum_{k=0}^{m} (-1)^k \\frac{\\sin^{2k+n+1}(x)}{2k+n+1}+C $$\n",
    "## $$ \\int \\sin^{2m+1}(x) \\cos^n(x) dx = \\sum_{k=0}^{m} (-1)^{k+1} \\frac{\\cos^{2k+n+1}(x)}{2k+n+1}+C $$\n",
    "### where\n",
    "## $$ \\begin{pmatrix} m \\\\ k \\end{pmatrix} = \\frac{m!}{(m-k)!k!} = \\frac{m(m-1)(m-2)\\ldots(m-k+2)(m-k+1)}{k(k-1)\\ldots(3)(2)(1)} $$\n",
    "### are the ***binomial coefficients***\n"
   ]
  },
  {
   "cell_type": "markdown",
   "id": "f9411cdb-af43-48bb-8d89-6d57f11b5f92",
   "metadata": {},
   "source": [
    "## General formula for integral with even positive power of secant\n",
    "## $$ \\sec^{2m}(x) = \\sec^2(x)(1+\\tan^2(x))^{m-1} $$\n",
    "## $$ = \\sec^2(x)(\\sum_{k=0}^{m-1} \\begin{pmatrix} m-1 \\\\ k \\end{pmatrix} u^{2k}) du \\quad (u = \\tan(x)) $$\n",
    "## $$ = \\sum_{k=0}^{m-1} \\begin{pmatrix} m-1 \\\\ k \\end{pmatrix} \\frac{\\tan^{2k+1}(x)}{2k+1} + C $$"
   ]
  },
  {
   "cell_type": "markdown",
   "id": "3389fbfe-fb9d-4721-92af-131f08d3dca0",
   "metadata": {},
   "source": [
    "## Worked example with trig substitution\n",
    "### 1. Consider the integral\n",
    "## $$ \\int \\frac{dx}{x^2 \\sqrt{1+x^2}} $$\n",
    "### 2. Identify \"ugliest\" part of integral\n",
    "## $$ \\sqrt{1+x^2} $$\n",
    "### 3. Make a substitution  to simplify \"ugly\" expression:\n",
    "## $$ \\left\\{ \\begin{array} x = \\tan(\\theta) \\\\ \\sqrt{1+x^2} = \\sqrt{\\sec^2(\\theta)} = \\sec(\\theta) \\\\ dx = \\sec^2(\\theta) d\\theta \\end{array} \\right. $$\n",
    "### Based on $\\sec^2(\\theta) = 1 + \\tan^2(\\theta)$\n",
    "### (Note that generally, $\\sqrt{\\sec^2(\\theta)} = |\\sec(\\theta)|$. However, when we make the substituion $x=\\tan(\\theta)$, we are implicitly restricting to the range $-\\frac{\\pi}{2}\\leq\\theta\\leq\\frac{\\pi}{2}$. On this domain, $x$ achieves all real values, $\\tan(\\theta)$ is continuous and invertible, and $\\sec(\\theta) > 0$.\n",
    "### 4. Plug into integral:\n",
    "## $$ \\int \\frac{dx}{x^2\\sqrt{1+x^2}} = \\int \\frac{\\sec(\\theta) d\\theta}{\\tan^2(\\theta)} $$\n",
    "### 5. Rewrite in terms of $\\sin$ and $\\cos$:\n",
    "## $$ = \\int \\frac{\\cos(\\theta) d\\theta}{\\sin^2(\\theta)} $$\n",
    "### 6. Still not done. Need to evaluate this integral. We will try direct substitution:\n",
    "## $$ \\left\\{ \\begin{array} u = \\sin(\\theta) \\\\ u^2 = \\sin^2(\\theta) \\\\ du = \\cos(\\theta) d\\theta \\end{array} \\right. $$\n",
    "### rewrite integral:\n",
    "## $$ = \\int \\frac{du}{u^2} $$\n",
    "### 7. Evaluate the integral\n",
    "## $$ = \\frac{-1}{u} + C $$\n",
    "### This is the end of calculus\n",
    "### 8. The rest is back substitution. First replace $u$ by $\\sin(\\theta)$\n",
    "## $$ = \\frac{-1}{\\sin(\\theta)} + C $$\n",
    "### 9. Draw a diagram of $x = \\tan(\\theta)$:\n",
    "![1](img/ttrig-1.png)\n",
    "### 10. Use diagram to determine $\\frac{1}{\\sin(\\theta)}$ in terms of $x$:\n",
    "![1](img/ttrig-2.png)\n",
    "## $$ \\frac{1}{\\sin(\\theta)} = \\frac{\\sqrt{1+x^2}}{x} $$\n",
    "### 11. Rewrite integral in terms of $x$:\n",
    "## $$ = \\frac{\\sqrt{1+x^2}}{x} + C $$\n",
    "### The non-calculus part of this technique, the part of undoing the trig substitution, requires some practice. Note that in Steps (8), (9), and (10) we are actually computing the trig function of an inverse trig function. In our example, we had\n",
    "## $$ \\theta = \\arctan(x) $$\n",
    "## $$ \\csc(\\theta) = \\csc(\\arctan(x)) $$"
   ]
  },
  {
   "cell_type": "markdown",
   "id": "fbc48425-e6a6-4208-85d4-d5d3cb58c421",
   "metadata": {},
   "source": [
    "## Undoing trig substitutions\n",
    "\n",
    "### To undo a trig substitution, you must often evaluate a function of the form a trig function of an inverse trig function.\n",
    "### For example:\n",
    "## $$ \\csc(\\arctan(x)) $$\n",
    "## $$ \\tan(\\operatorname{arccsc}(x)) $$\n",
    "### To do this the steps are as follows:\n",
    "### 1. Compute the composite:\n",
    "## $$ \\tan\\underbrace{(\\operatorname{arccsc}(x))}_{\\theta} $$\n",
    "### 2. Draw a picture of\n",
    "## $$ \\theta = \\operatorname{arccsc}(x) \\iff \\csc(\\theta) = x \\iff \\sin(\\theta) = \\frac{1}{x} $$\n",
    "![3](img/ttrig-3.png)\n",
    "### 3. Find length of remaining side:\n",
    "![4](img/ttrig-4.png)\n",
    "## $$ \\tan(\\theta) = \\frac{1}{\\sqrt{x^2-1}} $$\n",
    "### From the pictures and formulas, we can see that we used $1 < x < \\infty$ and $0 < \\theta < \\frac{\\pi}{2}$"
   ]
  },
  {
   "cell_type": "markdown",
   "id": "91829244-bfc6-47d5-978e-8696e0220891",
   "metadata": {},
   "source": [
    "## Summary of trig substitutions\n",
    "\n",
    "### 1. If integrand contains\n",
    "## $$ \\sqrt{a^2-x^2} $$\n",
    "### Make substitution\n",
    "## $$ x = \\left\\{ \\begin{array} a \\cos(\\theta) \\\\ a \\sin(\\theta) \\end{array} \\right. $$\n",
    "### To get\n",
    "## $$ \\sqrt{a^2-x^2} = \\left\\{ \\begin{array} a \\sin(\\theta) \\\\ a \\cos(\\theta) \\end{array} \\right. $$\n",
    "\n",
    "### 2. If integrand contains\n",
    "## $$ \\sqrt{a^2+x^2} $$\n",
    "### Make substitution\n",
    "## $$ x = a \\tan(\\theta) $$\n",
    "### To get\n",
    "## $$ \\sqrt{a^2+x^2} = a \\sec(\\theta) $$\n",
    "\n",
    "### 3. If integrand contains\n",
    "## $$ \\sqrt{x^2-a^2} $$\n",
    "### Make substitution\n",
    "## $$ x = a\\sec(\\theta) $$\n",
    "### To get\n",
    "## $$ \\sqrt{x^2-a^2} = a \\tan(\\theta) $$"
   ]
  },
  {
   "cell_type": "markdown",
   "id": "a6c280b4-f877-4bcf-9036-8f9201b0bf1d",
   "metadata": {},
   "source": [
    "## Completing the square\n",
    "\n",
    "### We use completing the square to rewrite any quadratic function into a form which is more conducive to using trigonometric substitution.\n",
    "### To complete the square means to rewrite any quadratic function $Ax^2+Bx+C$ into the form $A(x+b)^2+c$.\n",
    "### Here is the algebra:\n",
    "## $$ Ax^2+Bx+C = A\\left(x^2+\\frac{B}{A}x\\right) + C \\quad \\text{Factor out}\\, A $$\n",
    "### Add and subtract the square term:\n",
    "## $$ = A\\left(x^2+\\frac{B}{A}x +\\left(\\frac{B}{2A}\\right)^2\\right) - A\\left(\\frac{B}{2A}\\right)^2 + C $$\n",
    "## $$ = A\\left(x+\\frac{B}{2A}\\right)^2 +\\left(-\\frac{B^2}{4A} + C\\right) $$"
   ]
  },
  {
   "cell_type": "markdown",
   "id": "8a754528-d9f7-4cad-873a-015733748a9b",
   "metadata": {},
   "source": [
    "## Rational functions\n",
    "\n",
    "### ***Polynomials*** are functions $P(x) = a_n x^n + a_{n-1}x^{n-1} + \\ldots + a_1 x + a_0$ where the constants $a_i$ are real numbers and the powers $n$ are non-negative, finite integers.\n",
    "\n",
    "### The ***degree*** of a polynomial $P(x)$ is the integer $\\operatorname{deg}(P) = n$ of the highest order $x$ term in the polynomial $P(x)$. \n",
    "### For example, if $P(x) = -x^5 - 4x + 1$ then $\\operatorname{deg}(P) = 5$.\n",
    "### ***Rational functions*** are ratios of polynomials. \n",
    "### For example, if $P(x)$ and $Q(x)$ are polynomials, then\n",
    "## $$ \\frac{P(x)}{Q(x)} $$\n",
    "### is rational function.\n"
   ]
  },
  {
   "cell_type": "markdown",
   "id": "bacc378a-fb0f-44ea-87d9-17b70c95fc52",
   "metadata": {},
   "source": [
    "## Partial fractions\n",
    "\n",
    "### Given a rational function\n",
    "## $$ \\frac{P(x)}{Q(x)} $$\n",
    "### and example\n",
    "## $$ \\frac{4x-1}{x^2+x-2} $$\n",
    "### Step 1: Factor the denominator $Q(x)$:\n",
    "## $$ Q(x) = x^2 + x - 2 = (x-1)(x+2) $$\n",
    "### Step 2: Set-up\n",
    "## $$ \\frac{4x-1}{(x-1)(x+2)} = \\frac{A}{x-1} + \\frac{B}{x+2} $$\n",
    "### Step 3: Solve for $A$ and $B$\n",
    "### ***For $A$***:\n",
    "### Multiply by $(x-1)$:\n",
    "## $$ \\frac{4x-1}{(x+2)} = A + \\frac{B}{x+2}(x-1) $$\n",
    "### Plug in $x = 1$: (Take the limits as $x \\to 1$)\n",
    "## $$ \\frac{4-1}{1+2} = A $$\n",
    "### ***For $B$***:\n",
    "### Multiply by $(x+2)$:\n",
    "## $$ \\frac{4x-1}{(x-1)} = \\frac{A}{x-1}(x+2) + B $$\n",
    "### Plug in $x = -2$: (Take the limits as $x \\to -2$)\n",
    "## $$ \\frac{-8-1}{-2-1} = B $$\n",
    "### Step 4: Rewrite rational function:\n",
    "## $$ \\frac{4x-1}{x^2+x-2}=\\frac{1}{x-1} + \\frac{3}{x+2} $$"
   ]
  },
  {
   "cell_type": "markdown",
   "id": "ea766a61-de21-448c-a4f9-91b6d2893d40",
   "metadata": {},
   "source": [
    "## Cover-up method\n",
    "\n",
    "### Given a rational function $\\frac{P(x)}{Q(x)}$ such that $Q(x)$ can be factored linearly with distinct factors, and the degree of $P(x)$ is less than the degree of $Q(x)$, then the fastest way to apply the method of partial fractions is the following:\n",
    "### 1. Factor $Q(x)$\n",
    "### 2. Set-up\n",
    "### 3. Cover-up"
   ]
  },
  {
   "cell_type": "markdown",
   "id": "bd437dbf-5d28-4716-b65f-28dcb4e1bc7b",
   "metadata": {},
   "source": [
    "## Repeated linear factors in denominator\n",
    "\n",
    "### Given $\\frac{P(x)}{Q(x)}$ such that $\\operatorname{deg}(P) < \\operatorname{deg}(Q)$.\n",
    "### If $Q(x) = (x-a)^n$, then the set-up for partial fractions is as follows:\n",
    "## $$ \\frac{}{} = \\frac{A_1}{(x-a)} + \\frac{A_2}{(x-a)^2} + \\frac{A_3}{(x-a)^3} + \\ldots + \\frac{A_n}{(x-a)^n} $$"
   ]
  },
  {
   "cell_type": "markdown",
   "id": "30cc12ea-2c6c-4f03-90a5-44f089f58c69",
   "metadata": {},
   "source": [
    "## Quadratic factor in denominator\n",
    "\n",
    "### Note that all polynomials with real coefficients can be factored into a product of linear and quadratic factors, where the quadratic factors cannot be factored further.\n",
    "\n",
    "### ***Method of partial fractions***\n",
    "\n",
    "### 1. Factor denominator\n",
    "## $$ \\frac{P(x)}{Q(x)} $$\n",
    "### Example:\n",
    "## $$ \\frac{x^2}{(x-1)(x^2+1)} $$\n",
    "### 2. Setup:\n",
    "## $$ \\frac{x^2}{(x-1)(x^2+1)} = \\frac{A}{x-1} + \\frac{Bx + C}{x^2+1} $$\n",
    "### 3. Solve for $A, B,$ and $C$.\n",
    "### Cover-up $x-1$ to find $A$:\n",
    "## $$ \\frac{1}{1^2 + 1} = \\frac{1}{2} = A $$\n",
    "### Clear denominator:\n",
    "## $$ x^2 = \\frac{1}{2}(x^2+1) + (Bx + C)(x-1) = (\\frac{1}{2} + B)x^2 + (C - B)x + (\\frac{1}{2} - C) $$\n",
    "### Solve system for $B$ and $C$ looking at the coefficients of $x^2$ and $x^0$\n",
    "## $$ 1 = \\frac{1}{2} + B \\implies B = \\frac{1}{2} \\quad (\\text{coefficients of }\\, x^2\\,\\text{must be equal on lhs and rhs}) $$\n",
    "## $$ 0 = \\frac{1}{2} - C \\implies C = \\frac{1}{2} $$"
   ]
  },
  {
   "cell_type": "markdown",
   "id": "83670dd4-f6aa-4a03-94cb-4b8003b8e836",
   "metadata": {},
   "source": [
    "## Improper fractions\n",
    "\n",
    "### To integrate a rational fraction $\\frac{P(x)}{Q(x)}$ such that $\\operatorname{deg}P \\geq \\operatorname{deg}Q$:\n",
    "### 1. Use Long division to divide $Q(x)$ into $P(x)$ to obtain:\n",
    "## $$ \\frac{P(x)}{Q(x)} = p(x) + \\frac{r(x)}{Q(x)} $$\n",
    "### where $p(x)$ and $r(x)$ are polynomials, and $\\operatorname{deg} r < \\deg Q$\n",
    "### 2. Use the method of partial fractions to divide $\\frac{r(x)}{Q(x)}$ into simpler pieces to integrate."
   ]
  },
  {
   "cell_type": "markdown",
   "id": "274c2e8f-71a6-4b40-b471-1291ee677a84",
   "metadata": {},
   "source": [
    "## Integration by Parts\n",
    "\n",
    "### ***Integration by parts*** is the integral version of the product rule for differentiation.\n",
    "\n",
    "## $$ \\int u v' dx = u v - \\int u' v dx $$\n",
    "## $$ \\int_{a}^{b} u v' dx = u v |_{a}^{b} - \\int_{a}^{b} u' v dx $$\n",
    "### The second formula, for the definite integral, is obtained by using FTC1 on the antiderivative. "
   ]
  },
  {
   "cell_type": "markdown",
   "id": "eaa08382-ed3f-432b-960f-3a6c61fd7758",
   "metadata": {},
   "source": [
    "### ***Example: Integral of the logarithm***\n",
    "\n",
    "### We are presenting three versions of integration by parts using slightly different notation. You can use whichever one you prefer.\n",
    "\n",
    "### ***Version 1***\n",
    "## $$ \\int \\ln(x) dx = \\int \\underbrace{\\ln(x)}_{u} \\underbrace{1}_{v'} dx = \\int u v' dx $$\n",
    "## $$ u = \\ln(x); \\quad v' = 1 $$\n",
    "## $$ \\implies u' = \\frac{1}{x}; \\quad v = x $$\n",
    "## $$ \\int \\underbrace{\\ln(x)}_{u} \\underbrace{1}_{v'} dx = \\underbrace{x}_{v} \\underbrace{\\ln(x)}_{u} - \\int \\underbrace{x}_{v} \\underbrace{\\frac{1}{x}}_{u'} dx $$\n",
    "## $$ x \\ln(x) - x + C $$"
   ]
  },
  {
   "cell_type": "markdown",
   "id": "3acfbf6b-23c7-496d-b7e3-4d57ea37c904",
   "metadata": {},
   "source": [
    "### ***Version 2***\n",
    "\n",
    "## $$ u v' dx = \\ln(x) dx $$\n",
    "## $$ u = \\ln(x) \\implies v' = 1 $$\n",
    "## $$ \\implies u' = \\frac{1}{x}; \\quad v = x $$\n",
    "## $$ \\int \\underbrace{\\ln(x)}_{u} \\underbrace{1}_{v'} dx = \\underbrace{x}_{v} \\underbrace{\\ln(x)}_{u} - \\int \\underbrace{x}_{v} \\underbrace{\\frac{1}{x}}_{u'} dx $$\n",
    "## $$ = x \\ln(x) - x + C $$"
   ]
  },
  {
   "cell_type": "markdown",
   "id": "d97b3202-0efb-4b51-bffd-3d6cf2b1cded",
   "metadata": {},
   "source": [
    "### ***Version 3***\n",
    "\n",
    "## $$ u dv = \\ln(x) dx $$\n",
    "## $$ u = \\ln(x) \\implies dv = dx $$\n",
    "## $$ \\implies du = \\frac{1}{x} dx; \\quad v = x $$\n",
    "## $$ \\int \\underbrace{\\ln(x)}_{u} \\underbrace{dx}_{dv} = \\underbrace{x}_{v} \\underbrace{\\ln(x)}_{u} - \\int \\underbrace{x}_{v} \\underbrace{\\frac{1}{x} dx}_{du} $$\n",
    "## $$ = x \\ln(x) - x + C $$"
   ]
  },
  {
   "cell_type": "markdown",
   "id": "90131b81-0e9d-4975-b654-9f5d961f5e6f",
   "metadata": {},
   "source": [
    "### ***Note***: When $v' = 1$ we chose $v = x$ not $v = x + 23$ or $v = x + C$. This is because every choice of antiderivative works, so we choose the simplest one.\n",
    "\n",
    "### A key issue in the procedure is to keep track of the data: $u, u', v$ and $v'$.\n",
    "\n",
    "### Once $u$ is chosen, the procedure is mechanical and determined. In this example, we chose $u = \\ln(x)$. How do we choose $u$ in general? The goal is to choose $u$ so that we can replace a harder integral with an easier one.\n"
   ]
  },
  {
   "cell_type": "markdown",
   "id": "a726702a-befc-4df9-8610-47a28bcf3af6",
   "metadata": {},
   "source": [
    "## Worked examples\n",
    "\n",
    "### Use integration by parts to evaluate\n",
    "## $$ \\int x^3 \\cos(x^2) dx $$\n",
    "\n",
    "### We choose\n",
    "## $$ u = x^2, \\quad v' = x \\cos(x^2) $$\n",
    "## $$ \\implies u' = 2x, \\quad v = \\frac{\\sin(x^2)}{2} $$\n",
    "\n",
    "### Integrating by parts, we have\n",
    "## $$ \\int \\underbrace{x^2}_{u} \\underbrace{x\\cos(x^2)}_{v'} dx = \\underbrace{x^2}_{u} \\underbrace{\\frac{\\sin(x^2)}{2}}_{v} - \\int \\underbrace{\\frac{\\sin(x^2)}{2}}_{v} \\underbrace{2x}_{u'} dx $$\n",
    "## $$ = \\frac{x^2 \\sin(x^2)}{2} + \\frac{\\cos(x^2)}{2} + C $$\n",
    "\n",
    "### How did we choose $u$ and $v'$? The short answer is that we chose the one that worked!\n",
    "\n",
    "### The longer answer is as follows. First, look at the most complicated function $\\cos(x^2)$, in the integrand, if we set $u = \\cos(x^2)$ then\n",
    "## $$ u = \\cos(x^2), \\quad v' = x^3 $$\n",
    "## $$ \\implies u' = -2x \\sin(x^2), \\quad v = \\frac{x^4}{4} $$\n",
    "### The derivative of $u$, is complicated and we check that $\\int u' v dx$ is also more complicated than the original integral:\n",
    "## $$ \\int u' v dx = \\int 2x \\sin(x^2) \\left( \\frac{x^4}{4} \\right) dx = 1/2 \\int x^5 \\sin(x^2) dx $$\n",
    "### Next, we try $v' = \\cos(x^2)$, but we cannot integrate is easily. Hovewer we do know how to integrate $x \\cos(x^2)$. Therefore the trick is to choose\n",
    "## $$ v' = x \\cos(x^2) \\implies v = \\frac{1}{2} \\sin(x^2) $$\n",
    "\n",
    "### Once the choice is made, the rest of the procedure is mechanical and as above.\n",
    "\n",
    "### ***Note***: Recall $\\int \\cos(x^2) dx$ is the Fresnel integral and cannot be expressed in terms of elementary functions."
   ]
  },
  {
   "cell_type": "markdown",
   "id": "a6d2c870-fd2f-4f6d-b556-e4c8da7a7868",
   "metadata": {},
   "source": [
    "## Reappearance of the original integral\n",
    "\n",
    "### Let us look at an example in which the original integral reappears on the right hand side of the formula after applying integration by parts.\n",
    "### Use integration by parts to evaluate\n",
    "## $$ \\int e^x cos(x) dx $$\n",
    "## $$ u = e^x, \\quad v' = \\cos(x) $$\n",
    "## $$ u' = e^x, \\quad v = \\sin(x) $$\n",
    "## $$ \\int \\underbrace{e^x}_{u} \\underbrace{\\cos(x)}_{v'} dx = \\underbrace{e^x}_{u} \\underbrace{\\sin(x)}_{v} - \\int \\underbrace{\\sin(x)}_{v} \\underbrace{e^x}_{u'} dx $$\n",
    "## $$ = e^x \\sin(x) - \\int e^x \\sin(x) dx $$"
   ]
  },
  {
   "cell_type": "markdown",
   "id": "d733971a-d67e-4988-8e05-1a17cfe6b847",
   "metadata": {},
   "source": [
    "### Next, we integrate by parts again to try to evaluate the resulting integral\n",
    "## $$ \\int e^x \\sin(x) dx $$\n",
    "## $$ u = e^x, \\quad v' = \\sin(x) $$\n",
    "## $$ u' = e^x, \\quad v - -\\cos(x) $$\n",
    "## $$ \\int \\underbrace{e^x}_{u} \\underbrace{\\sin(x)}_{v'} dx = \\underbrace{e^x}_{u} \\underbrace{(-\\cos(x))}_{v} - \\int \\underbrace{(-\\cos(x))}_{v} \\underbrace{e^x}_{u'} dx $$\n",
    "## $$ = -e^x \\cos(x) + \\int e^x \\cos(x) dx $$\n",
    "### Therefore, combining the above, we get:\n",
    "## $$ \\int e^x \\cos(x) dx = e^x \\sin(x) - \\int e^x \\sin(x) dx $$\n",
    "## $$ = e^x \\sin(x) - \\left( - e^x \\cos(x) + \\int e^x \\cos(x) dx \\right) $$\n",
    "## $$ = e^x (\\sin(x) + \\cos(x)) - \\int e^x \\cos(x) dx $$"
   ]
  },
  {
   "cell_type": "markdown",
   "id": "9c2d3fcd-f3da-48ed-afd2-01b2c19fa591",
   "metadata": {},
   "source": [
    "### The integral we started with $\\int e^x \\cos(x) dx$ appears again on the right hand side of our formula! It looks like we have just gone around in circles, but actually we are almost done, because the unknown integral appears with coefficient $+1$ on the left hand side and $-1$ on the right hand side, and we so can solve for it by adding it to both sides:\n",
    "\n",
    "## $$ \\int e^x \\cos(x) dx = e^x (\\sin(x) + \\cos(x)) - \\int e^x \\cos(x) dx $$\n",
    "## $$ \\implies 2 \\left( \\int e^x \\cos(x) dx \\right) = e^x (\\sin(x) + \\cos(x)) $$\n",
    "## $$ \\implies \\int e^x \\cos(x) dx = \\frac{e^x(\\sin(x) + \\cos(x))}{2} $$\n",
    "### The final answer is \n",
    "## $$ \\int e^x \\cos(x) dx = \\frac{e^x(\\sin(x) + \\cos(x))}{2} + C $$"
   ]
  },
  {
   "cell_type": "markdown",
   "id": "a642b123-5fb7-4892-955c-e45142e3fd63",
   "metadata": {},
   "source": [
    "## Integral of secant cubed\n",
    "### Example:\n",
    "### Define:\n",
    "## $$ Z = \\int \\sec^m(x) dx $$\n",
    "### Use\n",
    "## $$ Z_1 = \\int \\sec(x) dx = \\ln|\\sec(x) + \\tan(x)| + C $$\n",
    "### and the reduction formula:\n",
    "## $$ Z_m = \\frac{\\sin(x) \\sec^{m-1}(x)}{m - 1} + \\frac{m-2}{m-1} Z_{m-2} $$\n",
    "### to evaluate\n",
    "## $$ Z_3 = \\int \\sec^3(x) dx $$\n",
    "### Derive:\n",
    "## $$ Z_3 = \\frac{\\tan(x) \\sec(x)}{2} + \\frac{1}{2} \\ln|\\sec(x) + \\tan(x)| + C $$"
   ]
  },
  {
   "cell_type": "markdown",
   "id": "aba48287-689d-4ab6-8a37-76b7c49e98c4",
   "metadata": {},
   "source": [
    "## Arc length and surface area\n",
    "\n",
    "### Consider a very small piece of a curve $\\Delta s$.\n",
    "![img](img/curve-1.png)\n",
    "\n",
    "### From the image, we see that the length of the small piece of curve is nearly the same as the length of the secant line.\n",
    "\n",
    "## $$ \\Delta s \\approx \\sqrt{(\\Delta x)^2 + (\\Delta y)^2} $$\n",
    "### Thus as we pass to the differential, this approximate equality becomes an equality and we are left with\n",
    "## $$ ds = \\sqrt{(dx)^2 + (dy)^2} $$\n",
    "### The differential arc length element $ds$ can be written in terms of $dx$ and $dy$ in the following equivalent ways for a curve $y = f(x)$:\n",
    "## $$ ds = \\sqrt{dx^2 + dy^2} $$\n",
    "## $$ = \\sqrt{1 + \\left( \\frac{dy}{dx} \\right)^2} dx = \\sqrt{1 + (f'(x))^2} dx $$\n",
    "## $$ = \\sqrt{\\left( \\frac{dx}{dy} \\right)^2 + 1} dy = \\sqrt{((f^{-1})'(y))^2 + 1} dy $$\n",
    "![img](img/curve-2.png)\n",
    "\n",
    "### The ***arc length***, s, of the curve $y = f(x)$ over the intervals shown in the integral:\n",
    "## $$ \\text{Arc length}\\, s = \\int_{s_0}^{s_n} ds $$\n",
    "## $$ = \\int_{x_0}^{x_n} \\sqrt{1 + f'(x)^2} dx, \\quad y = f(x) $$\n",
    "## $$ = \\int_{y_0}^{y_n} \\sqrt{1 + ((f^{-1})'(y))^2} dy, \\quad x = f^{-1}(y) $$"
   ]
  },
  {
   "cell_type": "code",
   "execution_count": null,
   "id": "ccdb107a-811d-4706-9c5b-b43b874bc5e7",
   "metadata": {},
   "outputs": [],
   "source": []
  }
 ],
 "metadata": {
  "kernelspec": {
   "display_name": "Python 3",
   "language": "python",
   "name": "python3"
  },
  "language_info": {
   "codemirror_mode": {
    "name": "ipython",
    "version": 3
   },
   "file_extension": ".py",
   "mimetype": "text/x-python",
   "name": "python",
   "nbconvert_exporter": "python",
   "pygments_lexer": "ipython3",
   "version": "3.8.8"
  }
 },
 "nbformat": 4,
 "nbformat_minor": 5
}
