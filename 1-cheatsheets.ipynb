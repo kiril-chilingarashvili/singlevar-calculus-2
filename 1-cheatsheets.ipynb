{
 "cells": [
  {
   "cell_type": "markdown",
   "id": "52d8bc88-da35-4dc4-9b24-b006b2eabaa3",
   "metadata": {},
   "source": [
    "# Unit 1: The Integral"
   ]
  },
  {
   "cell_type": "markdown",
   "id": "7f846b4c-8a60-46c1-a0b7-ca04ed42f728",
   "metadata": {},
   "source": [
    "## Mean Value Theorem\n",
    "### If $x(t)$ is continuous on $a\\leq t\\leq b$, and differentiable on $a<t<b$, that is, $x'(t)$ is defined for all $t$, $a<t<b$, then\n",
    "\n",
    "# $$ \\frac{x(b) - x(a)}{b - a} = x'(c) $$\n",
    "### for some $c$, with $a<c<b$"
   ]
  },
  {
   "cell_type": "markdown",
   "id": "4d89dbac-cde3-411b-9663-4d8564418752",
   "metadata": {},
   "source": [
    "### Equivalently, in geometric terms, there is at least one point $c$, with $a<c<b$, at which the tangent line is parallel to the secant line through $(a, x(a))$ and $(b, x(b))$:\n",
    "\n",
    "![Tangent Plane](img/mvt.png)"
   ]
  },
  {
   "cell_type": "code",
   "execution_count": null,
   "id": "caa956c1-997e-4047-a40f-6b0fb96d5fec",
   "metadata": {},
   "outputs": [],
   "source": []
  }
 ],
 "metadata": {
  "kernelspec": {
   "display_name": "Python 3",
   "language": "python",
   "name": "python3"
  },
  "language_info": {
   "codemirror_mode": {
    "name": "ipython",
    "version": 3
   },
   "file_extension": ".py",
   "mimetype": "text/x-python",
   "name": "python",
   "nbconvert_exporter": "python",
   "pygments_lexer": "ipython3",
   "version": "3.8.8"
  }
 },
 "nbformat": 4,
 "nbformat_minor": 5
}
