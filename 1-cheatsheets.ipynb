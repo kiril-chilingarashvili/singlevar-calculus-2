{
 "cells": [
  {
   "cell_type": "markdown",
   "id": "52d8bc88-da35-4dc4-9b24-b006b2eabaa3",
   "metadata": {},
   "source": [
    "# Unit 1: The Integral"
   ]
  },
  {
   "cell_type": "markdown",
   "id": "7f846b4c-8a60-46c1-a0b7-ca04ed42f728",
   "metadata": {},
   "source": [
    "## Mean Value Theorem\n",
    "### If $x(t)$ is continuous on $a\\leq t\\leq b$, and differentiable on $a<t<b$, that is, $x'(t)$ is defined for all $t$, $a<t<b$, then\n",
    "\n",
    "# $$ \\frac{x(b) - x(a)}{b - a} = x'(c) $$\n",
    "### for some $c$, with $a<c<b$"
   ]
  },
  {
   "cell_type": "markdown",
   "id": "4d89dbac-cde3-411b-9663-4d8564418752",
   "metadata": {},
   "source": [
    "### Equivalently, in geometric terms, there is at least one point $c$, with $a<c<b$, at which the tangent line is parallel to the secant line through $(a, x(a))$ and $(b, x(b))$:\n",
    "\n",
    "![Tangent Plane](img/mvt.png)"
   ]
  },
  {
   "cell_type": "markdown",
   "id": "5fab9ab6-bbb2-4976-a1ed-efd533a5fc96",
   "metadata": {},
   "source": [
    "## Bounding the average rate of change\n",
    "\n",
    "### The MVT says that the average rate of change over an interval is equal to the derivative at some point in the interval. This implies that the average rate of change must be within the range of possible values of the derivative.\n",
    "\n",
    "### More precisely, if\n",
    "\n",
    "## $$ m \\leq x'(c) \\leq M $$\n",
    "### for all c with $ a < c < b $\n",
    "### that is, $m$ is a lower bound and $M$ is an upper bound on $x'(c)$ over the interval $(a, b)$, then the MVT implies that\n",
    "## $$ m \\leq \\frac{x(b) - x(a)}{b - a} \\leq M $$\n",
    "\n",
    "#### In other words, a lower bound on the derivative is also a lower bound on the average rate of change, and an upper bound on the derivative is also an upper bound on the average rate of change.\n",
    "\n",
    "### Sometimes we know the maximum and minimum values of $x'(t)$. In this case, we can use the maximum as an upper bound and the minimum as a lower bound on $x'(t)$, and obtain the following inequality for the average rate of change.\n",
    "\n",
    "## $$ \\min_{a \\leq t \\leq b} x'(t) \\leq \\frac{x(b) - x(a)}{b - a} \\leq \\max_{a \\leq t \\leq b} x'(t) $$\n",
    "\n",
    "### Moreover, the maximum and minimum on $x'(t)$ are the best bounds on $x'(t)$. That is, for any upper bound $M$ and lower bound $m$ on $x'(t)$ from $a$ to $b$,\n",
    "## $$ m \\leq \\min_{a \\leq t \\leq b} x'(t) \\leq x'(t) \\leq \\max_{a \\leq t \\leq b} x'(t) \\leq M $$\n",
    "\n",
    "#### In other words, the maximum is the least upper bound, the smallest number which is an upper bound, and the minimum is the greatest lower bound, the biggest number which is a lower bound.\n",
    "\n",
    "### The MVT then gives us the following inequalities for the average rate of change and the total change. For any upper bound $M$ and lower bound $m$ on the derivative $x'(t)$ from $a$ to $b$,\n",
    "\n",
    "## $$ m \\leq \\min_{a \\leq t \\leq b} x'(t) \\leq \\frac{x(b) - x(a)}{b - a} \\leq \\max_{a \\leq t \\leq b} x'(t) \\leq M $$"
   ]
  },
  {
   "cell_type": "markdown",
   "id": "40f61122-f706-491d-99d3-656e27c03175",
   "metadata": {},
   "source": [
    "## Linear Approximation vs Mean Value Theorem\n",
    "\n",
    "### 1. Linear approximation\n",
    "## $$ \\Delta x = x(t) - x(a) $$\n",
    "## $$ \\Delta t = t - a $$\n",
    "### then\n",
    "## $$ \\Delta x \\approx x'(a) \\Delta t $$\n",
    "\n",
    "### 2. Mean Value Theorem\n",
    "## $$ \\Delta x = x(t) - x(a) $$\n",
    "## $$ \\Delta t = t - a $$\n",
    "### then\n",
    "## $$ \\Delta x = x'(c) \\Delta t $$\n",
    "### for some $c$ where $a < c < t$ \n",
    "\n",
    "\n",
    "![Tangent Plane](img/linear-approx-and-mvt.png)"
   ]
  },
  {
   "cell_type": "markdown",
   "id": "f9aa568d-47b4-4ed1-bb57-76f3f34de778",
   "metadata": {},
   "source": [
    "## Differential notation\n",
    "\n",
    "### Let $y = F(x)$, the ***differential*** of y is defined as\n",
    "## $$ dy=F'(x) dx  $$\n",
    "\n",
    "### This is also called the ***differential of $F$*** and denoted ***$dF$***.\n",
    "\n",
    "### Rearranging this equation, we get the the Leibniz notation for the derivative, which says the derivative is the ratio of the two differentials $dy$ and $dx$.\n",
    "## $$ F'(x) = \\frac{dy}{dx} \\left(\\text{ or } \\frac{dF}{dx} \\right) $$\n"
   ]
  },
  {
   "cell_type": "markdown",
   "id": "9885742b-1d9b-4bcd-acd8-8b0db5591090",
   "metadata": {},
   "source": [
    "## Linear Approximation vs Differential Notation\n",
    "\n",
    "### 1. Linear Approximation\n",
    "## $$ \\Delta F \\approx F'(x) \\Delta x $$\n",
    "### where $\\Delta x$ is a finite change in x\n",
    "\n",
    "### 2. Differential Notation\n",
    "## $$ dF = F'(x) dx $$\n",
    "### where $dx$ is infinitesimal \"bit\" of x\n",
    "\n",
    "\n",
    "![Tangent Plane](img/differential-notation.png)"
   ]
  },
  {
   "cell_type": "markdown",
   "id": "85b4a9bb-e2f6-4443-b088-305976d3b974",
   "metadata": {},
   "source": [
    "## Antiderivatives\n",
    "\n",
    "### An antiderivative of $f(x)$ is any function $F(x)$ such that\n",
    "\n",
    "## $$ F'(x) = f(x) $$\n",
    "\n",
    "### In other words, an antiderivative of a function $f(x)$ is another function whose derivative is $f(x)$."
   ]
  },
  {
   "cell_type": "markdown",
   "id": "66c491b0-a2f9-4211-8864-5a28a54bd22a",
   "metadata": {},
   "source": [
    "## The indefinite integral\n",
    "\n",
    "### Given a function $f(x)$, the ***indefinite integral*** or ***the antiderivative*** of $f(x)$ is denoted $\\int f(x) dx$. It is the family of functions\n",
    "\n",
    "## $$ \\int f(x) dx = F(x) + C $$\n",
    "\n",
    "### where $F(x)$ is any antiderivative of $f(x)$, that is, $F'(x) = f(x)$, and $C$ is any constant.\n",
    "\n",
    "### we call\n",
    "### - $\\int$ - the ***integral sign***,\n",
    "### - $f(x)$ - the ***integrand***, \n",
    "### - $C$ - the ***constant of integration***.\n"
   ]
  },
  {
   "cell_type": "code",
   "execution_count": null,
   "id": "e5b54d05-793f-4367-9338-98310c4cfe22",
   "metadata": {},
   "outputs": [],
   "source": []
  }
 ],
 "metadata": {
  "kernelspec": {
   "display_name": "Python 3",
   "language": "python",
   "name": "python3"
  },
  "language_info": {
   "codemirror_mode": {
    "name": "ipython",
    "version": 3
   },
   "file_extension": ".py",
   "mimetype": "text/x-python",
   "name": "python",
   "nbconvert_exporter": "python",
   "pygments_lexer": "ipython3",
   "version": "3.8.8"
  }
 },
 "nbformat": 4,
 "nbformat_minor": 5
}
