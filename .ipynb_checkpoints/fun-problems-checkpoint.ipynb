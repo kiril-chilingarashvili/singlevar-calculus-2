{
 "cells": [
  {
   "cell_type": "markdown",
   "id": "e81f42e2-bac4-4e37-a898-aea6c9b7ee63",
   "metadata": {},
   "source": [
    "## Fun Problems\n",
    "\n",
    "\n",
    "![img](img/i2.JPG)\n",
    "\n",
    "\n",
    "![img](img/i3.JPG)\n",
    "\n",
    "\n",
    "![img](img/i4.JPG)\n",
    "\n",
    "\n",
    "![img](img/i5.JPG)\n",
    "\n",
    "\n",
    "![img](img/i6.JPG)"
   ]
  },
  {
   "cell_type": "code",
   "execution_count": null,
   "id": "2e3e584d-6b77-46a2-a423-28219c87ec6e",
   "metadata": {},
   "outputs": [],
   "source": []
  }
 ],
 "metadata": {
  "kernelspec": {
   "display_name": "Python 3",
   "language": "python",
   "name": "python3"
  },
  "language_info": {
   "codemirror_mode": {
    "name": "ipython",
    "version": 3
   },
   "file_extension": ".py",
   "mimetype": "text/x-python",
   "name": "python",
   "nbconvert_exporter": "python",
   "pygments_lexer": "ipython3",
   "version": "3.8.8"
  }
 },
 "nbformat": 4,
 "nbformat_minor": 5
}
