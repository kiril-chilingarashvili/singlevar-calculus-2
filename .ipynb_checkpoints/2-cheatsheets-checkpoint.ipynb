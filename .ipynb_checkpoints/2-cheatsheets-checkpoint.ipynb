{
 "cells": [
  {
   "cell_type": "markdown",
   "id": "ff00f360-b601-46f4-8ab4-03a160fa242e",
   "metadata": {},
   "source": [
    "## Unit 2: Integration theory"
   ]
  },
  {
   "cell_type": "code",
   "execution_count": null,
   "id": "d75ca7f1-e2fd-4c69-9e01-c9f673df5844",
   "metadata": {},
   "outputs": [],
   "source": []
  }
 ],
 "metadata": {
  "kernelspec": {
   "display_name": "Python 3",
   "language": "python",
   "name": "python3"
  },
  "language_info": {
   "codemirror_mode": {
    "name": "ipython",
    "version": 3
   },
   "file_extension": ".py",
   "mimetype": "text/x-python",
   "name": "python",
   "nbconvert_exporter": "python",
   "pygments_lexer": "ipython3",
   "version": "3.8.8"
  }
 },
 "nbformat": 4,
 "nbformat_minor": 5
}
