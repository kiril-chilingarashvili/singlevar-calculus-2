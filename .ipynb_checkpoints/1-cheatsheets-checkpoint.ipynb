{
 "cells": [
  {
   "cell_type": "markdown",
   "id": "52d8bc88-da35-4dc4-9b24-b006b2eabaa3",
   "metadata": {},
   "source": [
    "# Unit 1: The Integral"
   ]
  },
  {
   "cell_type": "markdown",
   "id": "7f846b4c-8a60-46c1-a0b7-ca04ed42f728",
   "metadata": {},
   "source": [
    "## Mean Value Theorem\n",
    "### If $x(t)$ is continuous on $a\\leq t\\leq b$, and differentiable on $a<t<b$, that is, $x'(t)$ is defined for all $t$, $a<t<b$, then\n",
    "\n",
    "# $$ \\frac{x(b) - x(a)}{b - a} = x'(c) $$\n",
    "### for some $c$, with $a<c<b$"
   ]
  },
  {
   "cell_type": "markdown",
   "id": "4d89dbac-cde3-411b-9663-4d8564418752",
   "metadata": {},
   "source": [
    "### Equivalently, in geometric terms, there is at least one point $c$, with $a<c<b$, at which the tangent line is parallel to the secant line through $(a, x(a))$ and $(b, x(b))$:\n",
    "\n",
    "![Tangent Plane](img/mvt.png)"
   ]
  },
  {
   "cell_type": "markdown",
   "id": "5fab9ab6-bbb2-4976-a1ed-efd533a5fc96",
   "metadata": {},
   "source": [
    "## Bounding the average rate of change\n",
    "\n",
    "### The MVT says that the average rate of change over an interval is equal to the derivative at some point in the interval. This implies that the average rate of change must be within the range of possible values of the derivative.\n",
    "\n",
    "### More precisely, if\n",
    "\n",
    "## $$ m \\leq x'(c) \\leq M $$\n",
    "### for all c with $ a < c < b $\n",
    "### that is, $m$ is a lower bound and $M$ is an upper bound on $x'(c)$ over the interval $(a, b)$, then the MVT implies that\n",
    "## $$ m \\leq \\frac{x(b) - x(a)}{b - a} \\leq M $$\n",
    "\n",
    "#### In other words, a lower bound on the derivative is also a lower bound on the average rate of change, and an upper bound on the derivative is also an upper bound on the average rate of change.\n",
    "\n",
    "### Sometimes we know the maximum and minimum values of $x'(t)$. In this case, we can use the maximum as an upper bound and the minimum as a lower bound on $x'(t)$, and obtain the following inequality for the average rate of change.\n",
    "\n",
    "## $$ \\min_{a \\leq t \\leq b} x'(t) \\leq \\frac{x(b) - x(a)}{b - a} \\leq \\max_{a \\leq t \\leq b} x'(t) $$\n",
    "\n",
    "### Moreover, the maximum and minimum on $x'(t)$ are the best bounds on $x'(t)$. That is, for any upper bound $M$ and lower bound $m$ on $x'(t)$ from $a$ to $b$,\n",
    "## $$ m \\leq \\min_{a \\leq t \\leq b} x'(t) \\leq x'(t) \\leq \\max_{a \\leq t \\leq b} x'(t) \\leq M $$\n",
    "\n",
    "#### In other words, the maximum is the least upper bound, the smallest number which is an upper bound, and the minimum is the greatest lower bound, the biggest number which is a lower bound.\n",
    "\n",
    "### The MVT then gives us the following inequalities for the average rate of change and the total change. For any upper bound $M$ and lower bound $m$ on the derivative $x'(t)$ from $a$ to $b$,\n",
    "\n",
    "## $$ m \\leq \\min_{a \\leq t \\leq b} x'(t) \\leq \\frac{x(b) - x(a)}{b - a} \\leq \\max_{a \\leq t \\leq b} x'(t) \\leq M $$"
   ]
  },
  {
   "cell_type": "markdown",
   "id": "40f61122-f706-491d-99d3-656e27c03175",
   "metadata": {},
   "source": [
    "## Linear Approximation vs Mean Value Theorem\n",
    "\n",
    "### 1. Linear approximation\n",
    "## $$ \\Delta x = x(t) - x(a) $$\n",
    "## $$ \\Delta t = t - a $$\n",
    "### then\n",
    "## $$ \\Delta x \\approx x'(a) \\Delta t $$\n",
    "\n",
    "### 2. Mean Value Theorem\n",
    "## $$ \\Delta x = x(t) - x(a) $$\n",
    "## $$ \\Delta t = t - a $$\n",
    "### then\n",
    "## $$ \\Delta x = x'(c) \\Delta t $$\n",
    "### for some $c$ where $a < c < t$ \n",
    "\n",
    "\n",
    "![Tangent Plane](img/linear-approx-and-mvt.png)"
   ]
  },
  {
   "cell_type": "markdown",
   "id": "f9aa568d-47b4-4ed1-bb57-76f3f34de778",
   "metadata": {},
   "source": [
    "## Differential notation\n",
    "\n",
    "### Let $y = F(x)$, the ***differential*** of y is defined as\n",
    "## $$ dy=F'(x) dx  $$\n",
    "\n",
    "### This is also called the ***differential of $F$*** and denoted ***$dF$***.\n",
    "\n",
    "### Rearranging this equation, we get the the Leibniz notation for the derivative, which says the derivative is the ratio of the two differentials $dy$ and $dx$.\n",
    "## $$ F'(x) = \\frac{dy}{dx} \\left(\\text{ or } \\frac{dF}{dx} \\right) $$\n"
   ]
  },
  {
   "cell_type": "markdown",
   "id": "9885742b-1d9b-4bcd-acd8-8b0db5591090",
   "metadata": {},
   "source": [
    "## Linear Approximation vs Differential Notation\n",
    "\n",
    "### 1. Linear Approximation\n",
    "## $$ \\Delta F \\approx F'(x) \\Delta x $$\n",
    "### where $\\Delta x$ is a finite change in x\n",
    "\n",
    "### 2. Differential Notation\n",
    "## $$ dF = F'(x) dx $$\n",
    "### where $dx$ is infinitesimal \"bit\" of x\n",
    "\n",
    "\n",
    "![Tangent Plane](img/differential-notation.png)"
   ]
  },
  {
   "cell_type": "markdown",
   "id": "85b4a9bb-e2f6-4443-b088-305976d3b974",
   "metadata": {},
   "source": [
    "## Antiderivatives\n",
    "\n",
    "### An antiderivative of $f(x)$ is any function $F(x)$ such that\n",
    "\n",
    "## $$ F'(x) = f(x) $$\n",
    "\n",
    "### In other words, an antiderivative of a function $f(x)$ is another function whose derivative is $f(x)$."
   ]
  },
  {
   "cell_type": "markdown",
   "id": "66c491b0-a2f9-4211-8864-5a28a54bd22a",
   "metadata": {},
   "source": [
    "## The indefinite integral\n",
    "\n",
    "### Given a function $f(x)$, the ***indefinite integral*** or ***the antiderivative*** of $f(x)$ is denoted $\\int f(x) dx$. It is the family of functions\n",
    "\n",
    "## $$ \\int f(x) dx = F(x) + C $$\n",
    "\n",
    "### where $F(x)$ is any antiderivative of $f(x)$, that is, $F'(x) = f(x)$, and $C$ is any constant.\n",
    "\n",
    "### we call\n",
    "### - $\\int$ - the ***integral sign***,\n",
    "### - $f(x)$ - the ***integrand***, \n",
    "### - $C$ - the ***constant of integration***.\n"
   ]
  },
  {
   "cell_type": "markdown",
   "id": "ad423423-8670-45ea-9c7a-b2913031871e",
   "metadata": {},
   "source": [
    "## Uniqueness of the indefinite integral\n",
    "\n",
    "### The indefinite integral\n",
    "\n",
    "## $$ \\int f(x) dx = F(x) + C $$\n",
    "\n",
    "### is termed “indefinite\" since it contains an undetermined constant $C$ and is not just one function but a family of infinitely many functions, parameterized by $C$.\n",
    "\n",
    "### On the other hand, the constant is the only ambiguity of the indefinite integral due to the MVT, which guarantees that any two antiderivatives of the same function can differ only by a constant."
   ]
  },
  {
   "cell_type": "markdown",
   "id": "0d2ba698-3abf-4f03-a587-ffe9591bba0a",
   "metadata": {},
   "source": [
    "## Integrals of powers\n",
    "\n",
    "### The indefinite integral of $x^p$ for any real number $p$.\n",
    "\n",
    "## $$ \\int x^p dx = \\left\\{ \\begin{array} \\\\ \\frac{ x^{p + 1} }{p + 1} + C & \\mbox{if } p \\neq -1 \\\\ \\ln(|x|) + C & \\mbox{if } p = -1  \\end{array} \\right. $$"
   ]
  },
  {
   "cell_type": "markdown",
   "id": "a6ece431-fa00-4bbb-8a55-663f44402dad",
   "metadata": {},
   "source": [
    "## Basic integrals\n",
    "\n",
    "## $$ \\int cos(x) dx = sin(x) + C $$\n",
    "## $$ \\int sin(x) dx = -cos(x) + C $$\n",
    "## $$ \\int \\frac{1}{1+x^2} dx = arctan(x) + C $$\n",
    "## $$ \\int \\frac{1}{\\sqrt{1-x^2}} dx = arcsin(x) + C $$\n",
    "## $$ \\int sec(x) tan(x) dx = sec(x) + C $$\n",
    "## $$ \\int sec^2(x) dx = tan(x) + C $$\n",
    "## $$ \\int e^x dx = e^x + C $$\n",
    "## $$ \\int \\frac{1}{x} dx = \\ln(|x|) + C $$"
   ]
  },
  {
   "cell_type": "markdown",
   "id": "9c0635a5-8970-4266-bb3c-dee990c616b5",
   "metadata": {},
   "source": [
    "## Integral of a constant multiple of a function\n",
    "## $$ \\int k f(x) dx = k \\int f(x) dx $$\n",
    "\n",
    "## Integral of sum\n",
    "\n",
    "## $$ \\int \\left( f(x) + g(x) \\right) dx = \\int f(x) dx + \\int g(x) dx $$\n",
    "\n",
    "### On the other hand, the following naive product and quotient rules ***DO NOT*** work.\n",
    "\n",
    "### $$ \\int f \\cdot g \\ dx \\mbox{ DOES NOT EQUAL } \\left( \\int f dx \\right) \\cdot \\left( \\int g dx \\right) $$\n",
    "### $$ \\int \\frac{f}{g} dx \\mbox{ DOES NOT EQUAL } \\frac{\\int f dx }{\\int g dx} $$"
   ]
  },
  {
   "cell_type": "markdown",
   "id": "5269ecb3-bd0f-4f6d-b6be-260d16b071b6",
   "metadata": {},
   "source": [
    "## Method of substitution\n",
    "\n",
    "### The method of substitution is the integration analogue of the chain rule.\n",
    "### If\n",
    "## $$ g(x) dx = f(u(x)) u'(x) dx $$\n",
    "\n",
    "### that is, the integrand $g(x)$ can be seen as the result of a chain rule, then\n",
    "## $$ \\int g(x) dx = \\int f(u(x)) u'(x) dx $$\n",
    "## $$ = \\int f(u) du $$\n",
    "## $$ = F(u(x)) + C $$\n",
    "### where $F(u)$ is any antiderivative of $f(u)$."
   ]
  },
  {
   "cell_type": "markdown",
   "id": "6dd0b653-d372-48ee-aace-dc0850092d4f",
   "metadata": {},
   "source": [
    "## Differential Equations\n",
    "\n",
    "### Example 1:\n",
    "\n",
    "## $$ \\frac{dy}{dx} = f(x) $$\n",
    "\n",
    "### Example 2 (annihilation operator in QM):\n",
    "\n",
    "## $$  \\left( \\frac{d}{dx} + x \\right) y = f(x) $$\n",
    "\n",
    "### The solution to a differential equation is a family of functions parameterized by the constant of anti-differentiation C."
   ]
  },
  {
   "cell_type": "markdown",
   "id": "9a88e72c-7095-4784-8942-76c0046a8327",
   "metadata": {},
   "source": [
    "## Separation of variables\n",
    "\n",
    "### A differential equation is ***separable*** if it can be written in the form \n",
    "## $$\\frac{dy}{dx} = f(x) g(y)$$\n",
    "### To solve a separable differential equation, separate all terms involving $x$ from terms involving $y$, and anti-differentiate both sides.\n",
    "## $$ \\frac{dy}{dx} = f(x) g(y)$$\n",
    "## $$ \\frac{dy}{g(y)} = f(x) dx $$\n",
    "## $$ \\int \\frac{dy}{g(y)} = \\int f(x) dx $$"
   ]
  },
  {
   "cell_type": "markdown",
   "id": "b9508e6a-dc26-4f7b-b5b5-fa632f45a3ac",
   "metadata": {},
   "source": [
    "## Initial conditions\n",
    "\n",
    "### Theorem\n",
    "\n",
    "### Given a differential equation \n",
    "## $$\\frac{dy}{dx} = f(x) g(y)$$\n",
    "### and an ***initial condition*** \n",
    "## $$y(a) = b,$$ \n",
    "### if $ f, g, \\mbox{ and } g'$ are continuous near $(a, b)$ \n",
    "### then there is a unique function $y$ whose derivative is given by \n",
    "## $$f(x) g(y)$$ \n",
    "### and that passes through the point $(a, b)$.\n",
    "\n"
   ]
  },
  {
   "cell_type": "markdown",
   "id": "5ecdd409-2fb7-4c83-9f8b-9c12ae33b736",
   "metadata": {},
   "source": [
    "## Slope fields\n",
    "\n",
    "### The ***slope field*** is a diagram that helps us to visualize the information in a first order differential equation. The slope field is obtained as follows. At each point $(x, y)$, you draw a short segment whose slope is the value of $y'$ at the point $(x, y)$. The solution curves must be tangent to the slope field at all points.\n",
    "\n",
    "\n",
    "![Tangent Plane](img/slope-field.png)"
   ]
  },
  {
   "cell_type": "markdown",
   "id": "04d8e517-80f3-40d5-9ca9-a8745b75b6bf",
   "metadata": {},
   "source": [
    "## Euler's method\n",
    "\n",
    "### Given the differential equation \n",
    "## $$ \\frac{dy}{dx} = x + y $$\n",
    "\n",
    "### 1. Choose a step size $h$ (The smaller the step size, the more accurate the approximation.)\n",
    "### 2. Let $(x_0, y_0)$ be the initial condition.\n",
    "### 3. We can use the differential equation and step size to determine the value of the function at $x_1 = x + h$:\n",
    "## $$ x_1 = x_0 + h $$\n",
    "## $$ y_1 = y_0 + (x_0 + y_0) h $$\n",
    "### 4. Iterate this process:\n",
    "## $$ x_{k+1} = x_{k} + h $$\n",
    "## $$ y_{k+1} = y_{k} + (x_{k} + y_{k}) h $$"
   ]
  },
  {
   "cell_type": "markdown",
   "id": "d4d39b11-472f-4a0d-ad08-7a7c69ed1587",
   "metadata": {},
   "source": [
    "## Hyperbolic functions\n",
    "\n",
    "## $$ \\cosh(x) = \\frac{e^x+e^{-x}}{2} $$\n",
    "## $$ \\sinh(x) = \\frac{e^x-e^{-x}}{2} $$\n",
    "## $$ \\tanh(x) = \\frac{\\sinh(x)}{\\cosh(x)} $$\n",
    "\n",
    "### These satisfy the following identity:\n",
    "## $$ \\cosh^2(x) - \\sinh^2(x) = 1 $$\n",
    "\n",
    "## Derivatives of hyperbolic functions\n",
    "\n",
    "## $$ \\frac{d}{dx} \\cosh(x) = \\sinh(x) $$\n",
    "## $$ \\frac{d}{dx} \\sinh(x) = \\cosh(x) $$\n",
    "## $$ \\frac{d}{dx} \\tanh(x) = \\frac{1}{\\cosh^2(x)} $$"
   ]
  },
  {
   "cell_type": "markdown",
   "id": "a6ed62bd-e73a-429b-9271-a9569a265a88",
   "metadata": {},
   "source": [
    "### The basic trigonometric functions are related to the geometry of a circle. These hyperbolic trig functions are related to the geometry of a hyperbola.\n",
    "\n",
    "## Geometric description of trig functions\n",
    "\n",
    "### The point labeled in the image, $(\\cos(\\theta), \\sin(\\theta))$ is defined to be the point on the circle $x^2 + y^2 = 1$ such that the shaded area is $\\theta$.\n",
    "\n",
    "![Tangent Plane](img/trig-1.png)\n",
    "\n",
    "### Recall that the total area of the circle with radius 1 is $\\pi$, and the circumference is $2 \\pi$. So while the shaded region is bounded by an arc of arc length $2 \\theta$, the area of the shaded region is $\\theta$.\n",
    "\n",
    "## Geometric description of hyperbolic trig functions\n",
    "\n",
    "### The point labeled in the image, $(\\cosh(t), \\sinh(t))$ is defined to be the point on the hyperbola $x^2-y^2 = 1$ such that the area of the shaded region is $t$.\n",
    "\n",
    "![Tangent Plane](img/trig-2.png)\n"
   ]
  },
  {
   "cell_type": "markdown",
   "id": "466fd94e-518c-4109-a4a9-51d4379fe37d",
   "metadata": {},
   "source": [
    "## Generalizing MVT as the error of approximations\n",
    "\n",
    "### Let $P_n(x)$ be the degree $n$ polynomial approximation to $f(x)$ at $x = 0$. For any degree $n$, away from $x = 0$, $P_n(x)$ may differ from the actual value of $f(x)$. Let this difference be called the error of approximation and denoted by $\\varepsilon_n$.\n",
    "\n",
    "## $$ \\varepsilon_n(x) = f(x) - P_n(x) $$\n",
    "### Let us start by considering $\\varepsilon_0$.\n",
    "## $$ \\varepsilon_0(x) = f(x) - P_0(x) = f(x) - f(0) $$\n",
    "\n",
    "### The Mean value theorem tells us that there is some $c$ on the interval $0 < c < x$ such that\n",
    "## $$ \\varepsilon_0(x) = x f'(c) $$\n",
    "\n",
    "### It turns out that the error of approximation by $P_n(x)$ has a similar expression. (This result is called Taylor's Theorem)\n",
    "\n",
    "## $$ \\begin{array} \\, \\varepsilon_{1}(x) & = f(x) - P_1(x) & = \\frac{f''(c)}{2} (x)^2 & \\, \\text{ for some }\\, c, 0< c < x \\\\ \\varepsilon_2(x) & = f(x) - P_2(x) & = \\frac{f^{(3)}(c)}{2 \\cdot 3} (x)^3 & \\, \\text{ for some }\\, c, 0< c < x \\\\ \\vdots & \\vdots & \\vdots & \\vdots \\\\ \\varepsilon_n(x) & = f(x) - P_n(x) & = \\frac{f^{(n + 1)}(c)}{(n + 1) !} (x)^{(n + 1)} & \\, \\text{ for some }\\, c, 0< c < x \\end{array} $$"
   ]
  },
  {
   "cell_type": "code",
   "execution_count": null,
   "id": "88a71d66-441c-4e7c-b7a0-73ae82ce9dfb",
   "metadata": {},
   "outputs": [],
   "source": []
  }
 ],
 "metadata": {
  "kernelspec": {
   "display_name": "Python 3",
   "language": "python",
   "name": "python3"
  },
  "language_info": {
   "codemirror_mode": {
    "name": "ipython",
    "version": 3
   },
   "file_extension": ".py",
   "mimetype": "text/x-python",
   "name": "python",
   "nbconvert_exporter": "python",
   "pygments_lexer": "ipython3",
   "version": "3.8.8"
  }
 },
 "nbformat": 4,
 "nbformat_minor": 5
}
