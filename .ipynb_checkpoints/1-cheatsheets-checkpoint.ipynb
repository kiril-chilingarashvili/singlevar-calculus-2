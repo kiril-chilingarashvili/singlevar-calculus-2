{
 "cells": [
  {
   "cell_type": "markdown",
   "id": "52d8bc88-da35-4dc4-9b24-b006b2eabaa3",
   "metadata": {},
   "source": [
    "# Unit 1: The Integral"
   ]
  },
  {
   "cell_type": "code",
   "execution_count": null,
   "id": "859af3ab-9ec2-4460-9948-a87db28d0744",
   "metadata": {},
   "outputs": [],
   "source": []
  }
 ],
 "metadata": {
  "kernelspec": {
   "display_name": "Python 3",
   "language": "python",
   "name": "python3"
  },
  "language_info": {
   "codemirror_mode": {
    "name": "ipython",
    "version": 3
   },
   "file_extension": ".py",
   "mimetype": "text/x-python",
   "name": "python",
   "nbconvert_exporter": "python",
   "pygments_lexer": "ipython3",
   "version": "3.8.8"
  }
 },
 "nbformat": 4,
 "nbformat_minor": 5
}
