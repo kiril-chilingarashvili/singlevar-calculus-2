{
 "cells": [
  {
   "cell_type": "code",
   "execution_count": null,
   "id": "9de37a91-0da7-4cdb-ac0f-a68f49c51546",
   "metadata": {},
   "outputs": [],
   "source": [
    "# Once we have an iterative formula, this is something that we can program into a computer! The following python script is the process a computer uses to apply Euler's method for as many steps, and with as small a step size as you want.\n",
    "\n",
    "#set initial condition\n",
    "x0 = 1\n",
    "y0 = 1\n",
    "stepcounter = 0\n",
    "x = x0\n",
    "y = y0\n",
    "\n",
    "#set step size\n",
    "h=0.1\n",
    "\n",
    "#count iterations of method\n",
    "stepcounter = 0\n",
    "\n",
    "#determine how many steps to take\n",
    "while stepcounter < 1000:\n",
    "   y = y+(x+y)*h\n",
    "   x+=h\n",
    "   stepcounter = stepcounter + 1"
   ]
  }
 ],
 "metadata": {
  "kernelspec": {
   "display_name": "Python 3",
   "language": "python",
   "name": "python3"
  },
  "language_info": {
   "codemirror_mode": {
    "name": "ipython",
    "version": 3
   },
   "file_extension": ".py",
   "mimetype": "text/x-python",
   "name": "python",
   "nbconvert_exporter": "python",
   "pygments_lexer": "ipython3",
   "version": "3.8.8"
  }
 },
 "nbformat": 4,
 "nbformat_minor": 5
}
