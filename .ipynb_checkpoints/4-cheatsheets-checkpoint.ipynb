{
 "cells": [
  {
   "cell_type": "markdown",
   "id": "a6422fbe-586f-4e2c-b0c5-5328e44e8749",
   "metadata": {},
   "source": [
    "# Unit 4: Techniques of integration"
   ]
  },
  {
   "cell_type": "markdown",
   "id": "177d26ae-dbcc-4b0c-9cfb-ccd9ef0018f1",
   "metadata": {},
   "source": [
    "## Summary of formulas\n",
    "\n",
    "### ***Pythagorean theorem***\n",
    "\n",
    "## $$ \\cos^2(\\theta) + \\sin^2(\\theta) = 1 $$\n",
    "## $$ 1 + \\tan^2(\\theta) = \\sec^2(\\theta) \\quad (\\theta \\neq \\frac{\\pi}{2} + n \\pi) $$\n",
    "## $$ \\cot^2(\\theta) + 1 = \\csc^2(\\theta) \\quad (\\theta \\neq n \\pi) $$\n",
    "\n",
    "### ***The angle sum formulas***\n",
    "## $$ \\sin(a + b) = \\sin(a) \\cos(b) + \\sin(b) \\cos(a) $$\n",
    "## $$ \\cos(a + b) = \\cos(a) \\cos(b) - \\sin(a) \\sin(b) $$\n",
    "\n",
    "### ***The double angle formulas***\n",
    "## $$ \\sin(2a) = 2 \\sin(a) \\cos(a) $$\n",
    "## $$ \\cos(2a) = \\cos^2(a) - \\sin^2(a) $$\n",
    "\n",
    "### ***The half angle formulas***\n",
    "## $$ \\sin^2(a) = \\frac{1 - \\cos(2a)}{2} $$\n",
    "## $$ \\cos^2(a) = \\frac{1 + \\cos(2a)}{2} $$"
   ]
  },
  {
   "cell_type": "markdown",
   "id": "d0c0fd16-656d-4e57-a4c2-d3fb445f4fdb",
   "metadata": {},
   "source": [
    "### ***Integral with two even positive exponents***\n",
    "\n",
    "### To evaluate\n",
    "\n",
    "## $$ \\int \\sin^{2m} (x) \\cos^{2n}(x) dx, \\quad 2m, 2n > 0 \\, \\text{even integers} $$\n",
    "### we apply the half angle formulas to the integrand as many times as needed, until the integrand does not contain any non-constant term in which both exponents of $\\cos$ and $\\sin$ are even, but instead may contain terms with odd powers of $\\sin(2kx)$ and $\\cos(2lx)$ where $2k$ and $2l$ are even integers."
   ]
  },
  {
   "cell_type": "markdown",
   "id": "e24db509-419a-4a53-afd4-971d9511cc63",
   "metadata": {},
   "source": [
    "### ***Integrals with an odd positive power of tangent***\n",
    "### Integrals of the form\n",
    "\n",
    "## $$ \\int \\tan^{2m+1}(x) \\sec^n(x) dx \\quad \\text{with }\\,n\\,\\text{real},\\,2m+1\\geq 1 \\, \\text{odd integer} $$\n",
    "## $$ \\int \\cot^{2m+1}(x) \\csc^n(x) dx \\quad \\text{with }\\,n\\,\\text{real},\\,2m+1\\geq 1 \\, \\text{odd integer} $$\n",
    "\n",
    "### are not new, since\n",
    "\n",
    "## $$ \\tan^{2m+1}(x) \\sec^n(x) = \\sin^{2m+1}(x)\\cos^{-(n+2m+1)}(x) \\quad (\\text{with }\\,n\\,\\text{real},\\,2m+1\\geq 1 \\, \\text{odd integer}) $$\n",
    "## $$ \\cot^{2m+1}(x) \\csc^n(x) = \\cos^{2m+1}(x)\\sin^{-(n+2m+1)}(x) \\quad (\\text{with }\\,n\\,\\text{real},\\,2m+1\\geq 1 \\, \\text{odd integer}) $$\n",
    "\n",
    "### and we already know how to evaluate these integrals using the substitutions $u = \\cos(x)$ and $u = \\sin(x)$ respectively.\n",
    "\n",
    "### We now use alternate substitutions:\n",
    "\n",
    "## $$ \\int \\tan^{2m+1}(x) \\sec^n(x) dx : \\quad \\text{use}\\, u = \\sec(x) \\quad (\\text{with }\\,n\\,\\text{real},\\,2m+1\\geq 1 \\, \\text{odd integer}) $$\n",
    "## $$ \\int \\cot^{2m+1}(x) \\csc^n(x) dx : \\quad \\text{use}\\, u = \\csc(x) \\quad (\\text{with }\\,n\\,\\text{real},\\,2m+1\\geq 1 \\, \\text{odd integer}) $$\n",
    "\n"
   ]
  },
  {
   "cell_type": "markdown",
   "id": "5c5bb8d9-c6bd-49c8-bafa-ece0befd919b",
   "metadata": {},
   "source": [
    "## Integral of secant\n",
    "\n",
    "### Observe that\n",
    "## $$ \\frac{d}{dx} (\\sec(x) + \\tan(x)) = \\sec(x) \\tan(x) + \\sec^2(x) = \\sec(x) (\\tan(x) + \\sec(x)) $$\n",
    "\n",
    "### This implies\n",
    "## $$ \\sec(x) = \\frac{u'}{u} \\quad \\text{where} \\, u = \\sec(x) + \\tan(x) $$\n",
    "\n",
    "### Integrating both sides, we get\n",
    "## $$ \\int \\sec(x) dx = \\int \\frac{du}{u} \\quad \\text{where}\\, u = \\sec(x) + \\tan(x) $$\n",
    "## $$ = \\ln|u| + C $$\n",
    "## $$ =\\ln|\\sec(x) + \\tan(x)| + C $$"
   ]
  },
  {
   "cell_type": "markdown",
   "id": "a486a084-2b0d-4a3d-b8e9-9eec89b343d4",
   "metadata": {},
   "source": [
    "## Integrals with an even positive power of secant\n",
    "\n",
    "### Let $2m \\geq 2$ be a positive even integer, and $n$ any real number\n",
    "### To evaluate integrals with an even positive power of $\\sec$,\n",
    "## $$ \\int \\sec^{2m}(x)\\tan^n(x)dx \\quad (2m \\geq 2 \\, \\text{positive integer},\\, n \\, \\text{real}) $$\n",
    "### we can use substitution with $u = \\tan(x)$, with $du = \\sec^2(x) dx$, and then use the identity\n",
    "## $$ \\sec^2(x) = 1 + \\tan^2(x) \\quad (x \\neq \\frac{\\pi}{2} + k \\pi) $$\n",
    "\n",
    "### to rewrite the integrand in terms of only $u$\n",
    "\n",
    "### Similarly, to evaluate integral with even positive power of $\\csc$,\n",
    "## $$ \\int \\csc^{2m}(x)\\cot^n(x)dx \\quad (2m \\geq 2 \\, \\text{positive integer},\\, n \\, \\text{real}) $$\n",
    "### we can use the substitution $u = \\cot(x)$ and the identity\n",
    "## $$ \\csc^2(x) = 1 + \\cot^2(x), \\quad (x\\neq n \\pi) $$"
   ]
  },
  {
   "cell_type": "markdown",
   "id": "bd995520-e052-4407-b46c-7c8b028ddd89",
   "metadata": {},
   "source": [
    "## More even negative exponent\n",
    "\n",
    "### So far we know how to integrate\n",
    "## $$ \\int \\sin^n(x) \\cos^m(x) dx $$\n",
    "### when\n",
    "### 1. one of $n$ and $m$ is an odd positive integer (and the other can be any real number);\n",
    "### 2. both $n$ and $m$ are even positive integers.\n",
    "\n",
    "### The integrals we just discussed,\n",
    "## $$ \\int \\sec^{2m}(x) \\tan^n(x) dx \\quad (2m \\geq 2 \\, \\text{positive integer},\\, n \\, \\text{real}) $$\n",
    "## $$ \\int \\csc^{2m}(x) \\cot^n(x) dx \\quad (2m \\geq 2 \\, \\text{positive integer},\\, n \\, \\text{real}) $$\n",
    "### can be rewritten into \n",
    "## $$ \\int \\sin^n(x) \\cos^m(x) dx $$\n"
   ]
  },
  {
   "cell_type": "markdown",
   "id": "6bb68488-65e4-4f69-8d32-a73d3cea58f3",
   "metadata": {},
   "source": [
    "## Higher power in numerator\n",
    "\n",
    "### So far, we can evaluate integrals involving fractions of powers of $\\cos$ and $\\sin$\n",
    "## $$ \\int \\frac{\\sin^n(x)}{\\cos^k(x)} dx \\quad \\text{with}\\, n, k \\geq 0 $$\n",
    "## $$ \\int \\frac{\\cos^n(x)}{\\sin^k(x)} dx \\quad \\text{with}\\, n, k \\geq 0 $$\n",
    "\n",
    "### in the following two cases:\n",
    "\n",
    "### 1. When $n$ is a positive odd integer, use the substitutions \n",
    "## $$ u=\\cos(x) \\quad \\text{for} \\quad \\int \\frac{\\sin^n(x)}{\\cos^k(x)} dx \\quad \\text{and}  $$\n",
    "## $$ u=\\sin(x) \\quad \\text{for} \\quad \\int \\frac{\\cos^n(x)}{\\sin^k(x)} dx $$\n",
    "\n",
    "### 2. When $n-k$ is a negative even integer (so in particular $k > n$), rewrite the integrals as\n",
    "## $$ \\int \\tan^n(x) \\sec^{2m}(x) dx \\quad \\text{or} $$\n",
    "## $$ \\int \\cot^n(x) csc^{2m}(x) dx $$\n",
    "### and use substitution \n",
    "## $$ u = \\tan(x) or $$\n",
    "## $$ u = \\cot(x) $$\n",
    "\n",
    "### These do not cover the case when the exponent in the numerator is greater than the exponent in the denominator,\n",
    "## $$ \\int \\frac{\\sin^n(x)}{\\cos^k(x)} dx \\quad \\text{with}\\, n > k > 0 $$\n",
    "## $$ \\int \\frac{\\cos^n(x)}{\\sin^k(x)} dx \\quad \\text{with}\\, n > k > 0 $$\n",
    "### Let us end this section with one of these integrals."
   ]
  },
  {
   "cell_type": "markdown",
   "id": "d439fe16-9bab-4dc8-98db-a39346b96c07",
   "metadata": {},
   "source": [
    "## $$ \\int \\tan^2(y)sin^2(y) dy $$"
   ]
  },
  {
   "cell_type": "markdown",
   "id": "bfe4efa9-ae6b-4609-8b16-e7d7793fd06b",
   "metadata": {},
   "source": [
    "![Solution](img/IMG_0097.PNG)"
   ]
  },
  {
   "cell_type": "markdown",
   "id": "3421b01d-56b2-4512-a664-3bd011ee6f52",
   "metadata": {},
   "source": [
    "## Some integrals evaluated in this section\n",
    "\n",
    "## $$ \\int \\sec^2(x) dx = \\tan(x) + C $$\n",
    "## $$ \\int \\csc^2(x) dx = -\\cot(x) + C $$\n",
    "## $$ \\int \\sec(x) \\tan(x) dx = \\sec(x) + C $$\n",
    "## $$ \\int \\csc(x) \\cot(x) dx = -\\csc(x) + C $$\n",
    "## $$ \\int \\tan(x) dx = -\\ln|\\cos(x)| + C $$\n",
    "## $$ \\int \\cot(x) dx = \\ln|\\sin(x)| + C $$\n",
    "## $$ \\int \\sec(x) dx = \\ln|\\sec(x) + \\tan(x)| + C $$\n",
    "## $$ \\int \\csc(x) dx = -\\ln|csc(x) + \\cot(x)| + C $$"
   ]
  },
  {
   "cell_type": "code",
   "execution_count": null,
   "id": "7d8ac805-a84d-447c-8889-de253441b08c",
   "metadata": {},
   "outputs": [],
   "source": []
  },
  {
   "cell_type": "code",
   "execution_count": null,
   "id": "8d200072-6954-4c37-b7d3-ca864c4a62ef",
   "metadata": {},
   "outputs": [],
   "source": []
  },
  {
   "cell_type": "code",
   "execution_count": null,
   "id": "313205ad-302a-48d1-acc4-701c8c070946",
   "metadata": {},
   "outputs": [],
   "source": []
  }
 ],
 "metadata": {
  "kernelspec": {
   "display_name": "Python 3",
   "language": "python",
   "name": "python3"
  },
  "language_info": {
   "codemirror_mode": {
    "name": "ipython",
    "version": 3
   },
   "file_extension": ".py",
   "mimetype": "text/x-python",
   "name": "python",
   "nbconvert_exporter": "python",
   "pygments_lexer": "ipython3",
   "version": "3.8.8"
  }
 },
 "nbformat": 4,
 "nbformat_minor": 5
}
