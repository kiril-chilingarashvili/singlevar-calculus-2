{
 "cells": [
  {
   "cell_type": "markdown",
   "id": "ff00f360-b601-46f4-8ab4-03a160fa242e",
   "metadata": {},
   "source": [
    "# Unit 2: Integration theory"
   ]
  },
  {
   "cell_type": "markdown",
   "id": "6c4e445d-df09-4885-b26b-efa5e56a246f",
   "metadata": {},
   "source": [
    "## The geometric definition of the definite integral\n",
    "\n",
    "### We will only deal with definite integrals of non-negative functions in this section.\n",
    "### Geometrically, the ***definite integral of $f$ from $a$ to $b$***, denoted by\n",
    "## $$ \\int_{a}^{b} f(x) dx $$\n",
    "### is the area under the graph of $f(x)$ between $a$ and $b$.\n",
    "![Definite Integral](img/definite-integral.png)\n",
    "\n",
    "### More precisely, this definite integral is equal to the area of the region above the $x$-axis, below the curve $y=f(x)$, and in between the two vertical lines $x=a$ and $x=b$, as shown shaded in the figure below.\n",
    "### The $x$-values $a$ and $b$ are called the ***lower and upper limits of the integral***. (This is a different sense of the word \"limit\" from when we take a limit of a function.)\n",
    "### The only difference between the notation for definite and indefinite integrals is that definite integrals have limits but indefinite integrals do not."
   ]
  },
  {
   "cell_type": "markdown",
   "id": "3a849134-4318-4e58-94db-a6a57f85353f",
   "metadata": {},
   "source": [
    "## How to find the area\n",
    "\n",
    "### We will now discuss how to find the area under the graph of a general function $f(x)$ between $a$ and $b$.\n",
    "![Integral](img/integral-1.png)\n",
    "\n",
    "### In general, the region under a curve is not a simple shape whose area we have a formula for. In this case, we will start with an approximation of the area and then take the limit as the approximation approaches the actual area. We will do this in the following three steps.\n",
    "\n",
    "### ***1.*** Divide the region under the curve into “strips\", as shown in the figure below.\n",
    "![Integral](img/integral-2.png)\n",
    "### Approximate the area of each strip by the area of a rectangle.\n",
    "![Integral](img/integral-3.png)\n",
    "### ***2.*** Add up the areas of all the rectangles.\n",
    "### ***3.*** Take the limit as the rectangles become infinitesimally thin.\n",
    "\n",
    "### The main idea is that as the rectangles become thinner and thinner, the difference between the area covered by the rectangles and the area under the curve becomes smaller and smaller. And in the limit when the rectangles are infinitesimally small, these become exactly equal."
   ]
  },
  {
   "cell_type": "markdown",
   "id": "9ae2b9c3-46c8-4710-a73f-deaf19cdd5ca",
   "metadata": {},
   "source": [
    "## Riemann Sum\n",
    "\n",
    "### Let us summarize in precise terms the steps for evaluating $\\int_{a}^{b} f(x) dx$ using a Riemann Sum.\n",
    "\n",
    "### ***1.*** Divide $[a, b]$ into $n$ equal subintervals\n",
    "![Riemann Sum](img/riemann.png)\n",
    "\n",
    "### Then each interval is of length\n",
    "## $$ \\Delta x = \\frac{b - a}{n} $$\n",
    "### Let the $i^{\\text{th}}$ subinterval be the ***base*** of $i^{\\text{th}}$ rectangle\n",
    "\n",
    "### ***2.*** Choose a point $c_i$ within the $i^{\\text{th}}$ subinterval. Choose $f(c_i)$ be the ***height*** of the $i^{\\text{th}}$ rectangle.\n",
    "![Riemann Sum](img/riemann-2.png)\n",
    "\n",
    "### ***3.*** Add up the areas of the n rectangles. Total area of $n$ rectangles is:\n",
    "## $$ \\underbrace{f(c_1)}_{\\text{height}}\\underbrace{\\Delta x}_{\\text{base}} + \\underbrace{f(c_2)}_{\\text{height}}\\underbrace{\\Delta x}_{\\text{base}} + \\ldots + \\underbrace{f(c_n)}_{\\text{height}}\\underbrace{\\Delta x}_{\\text{base}} = \\sum_{i=1}^{n} f(c_i) \\Delta x $$\n",
    "\n",
    "### ***4.*** Take the limit as the rectangles become infinitesimally thin, ($\\Delta x \\to 0$, or equivalent $n \\to \\infty$). This limit is the actual area under the curve between $a$ and $b$.\n",
    "## $$ \\lim_{n \\to \\infty} \\sum_{i=1}^{n} f(c_i) \\Delta x = \\int_{a}^{b} f(x) dx $$\n",
    "\n",
    "### The sum of the areas of the $n$ rectangles, $\\sum_{i=1}^{n} f(c_i) \\Delta x$, is called a ***Riemann Sum***. \n",
    "### If we pick $c_i$ to be the left endpoint of the $i^{\\text{th}}$ subinterval, the Riemann sum is called a ***left Riemann Sum***. \n",
    "### Similarly, if $c_i$ is the right endpoint of the $i^{\\text{th}}$ interval, the Riemann sum is called a ***right Riemann sum***.\n",
    "\n",
    "### However, in the limit $n \\to \\infty$ (so that $\\Delta x \\to 0$), this distinction is no longer needed. The limit of any Riemann Sum, no matter what the $c_i$'s within the subinterval are, is equal to the exact area under the curve.\n"
   ]
  },
  {
   "cell_type": "markdown",
   "id": "768e497b-8a39-43cf-b803-73e1caad79d5",
   "metadata": {},
   "source": [
    "## Recognizing Riemann Sums\n",
    "\n",
    "### Limit of sums can be very hard to evaluate. Recognizing a limit of sums as the limit of a Riemann sum allows us to evaluate the limit as the integral.\n",
    "\n",
    "### ***Example problem***: Consider the right Riemann Sum\n",
    "## $$ \\sum_{i=1}^{n} \\frac{2}{n}\\left(-1+\\frac{2i}{n}\\right)^3 $$\n",
    "### Express the limit\n",
    "## $$ \\lim_{n \\to \\infty} \\sum_{i=1}^{n} \\frac{2}{n}\\left(-1+\\frac{2i}{n}\\right)^3 $$\n",
    "as a definite integral.\n",
    "### ***Solution***:\n",
    "### Let's evaluate the expressions inside the sum.\n",
    "## $$ \\sum_{i=1}^{n} \\frac{2}{n}\\left(-1+\\frac{2i}{n}\\right)^3 $$\n",
    "### We want to write this sum in terms of a multiple $\\Delta x$ that is independent of the index $i$ and a function $f(x)$ which should contain all of the terms involving the index $i$. In our case\n",
    "## $$ \\underbrace{ \\frac{2}{n}}_{\\Delta x}\\underbrace{ \\left(-1+\\frac{2i}{n}\\right)^3}_{f(x)}  = \\Delta x f(x) $$\n",
    "### At this stage what do we know? Since $\\Delta x = \\frac{2}{n}$, the width of each rectangle is $\\frac{2}{n}$ and we are summing over $n$ rectangles. Therefore the total length of the interval we are summing over is $n \\cdot \\frac{2}{n} = 2$.\n",
    "\n",
    "### To determine the upper and lower limit of the definite integral, first we need to figure out what our function is. In this case it seems that\n",
    "## $$ \\left( -1 + \\frac{2i}{n} \\right)^3 = f\\left(-1 + \\frac{2i}{n} \\right) = f(x) = x^3 $$\n",
    "\n",
    "### so our function is that we are integrating is $f(x) = x^3$, and our expression for $x$ is $-1 + \\frac{2i}{n}$. In particular, when $i=1$, $x = -1 + \\frac{2}{n}$. As $n$ tends to infinity, this becomes $x = -1$. So the lower limit of the integral is $-1$. When $i=n$, then $x=-1+\\frac{2n}{n} = 1$. Therefore the upper limit of the definite integral is $1$. This confirms what we discovered earlier, the length of the integral we are integrating over is $-1 -(-1) = 2$.\n",
    "\n",
    "### Therefore the limit of this sum represents the definite integral\n",
    "## $$ \\int_{-1}^{1} x^3 dx $$"
   ]
  },
  {
   "cell_type": "markdown",
   "id": "23e00d48-3f68-4128-84e0-c8bd19bfa48f",
   "metadata": {},
   "source": [
    "### (Useful) Identity:\n",
    "## $$ 1+2+\\ldots+n =\\frac{n (n+1)}{2}  $$\n",
    "### (Useful) Infinite series:\n",
    "## $$ \\sum_{k=0}^{n-1} r^k = \\frac{1-r^n}{1-r} $$\n",
    "### (Useful) Factorization\n",
    "## $$ x^{n+1} - 1 = -(1 - x)(1 + \\sum_{k=1}^n x^k) $$"
   ]
  },
  {
   "cell_type": "markdown",
   "id": "0102f564-9a1c-405c-933d-7eeacc752745",
   "metadata": {},
   "source": [
    "## The First Fundamental Theorem of Calculus (FTC1)\n",
    "### The ***First Fundamental Theorem of Calculus*** states that:\n",
    "### If $F$ is differentiable, and $F' = f$ is continuous, then\n",
    "## $$ \\int_{a}^{b} f(x) dx = F(b) - F(a) $$\n",
    "\n",
    "### In other words, the definite integral of a function is the difference between the values of its antiderivative at the limits of the definite integral.\n",
    "### We will abbreviate the ***First Fundamental Theorem of Calculus*** as ***FTC1***.\n",
    "### The FTC1 connects the definite integral to the antiderivative. With this connection, we can now compute definite integrals using antiderivatives, and dispense with Riemann sums."
   ]
  },
  {
   "cell_type": "markdown",
   "id": "bea8abec-a630-4881-bd57-7fd3710ee791",
   "metadata": {},
   "source": [
    "## Notation\n",
    "### Here is a new notation for denoting the difference of the values of a function at two points.\n",
    "## $$ \\left. F(x) \\right|_{a}^{b} = F(b) - F(a) $$\n",
    "### Notice the order of difference. This is the function evaluated at $b$, written at the top of the vertical bar, minus the function evaluated at $a$, at the bottom of the vertical bar."
   ]
  },
  {
   "cell_type": "markdown",
   "id": "be73d93b-16fc-4b1c-a30f-4ce1e258a4f4",
   "metadata": {},
   "source": [
    "## Intuition: traveling in one direction\n",
    "\n",
    "### Suppose you are traveling always in one direction between time $a$ and $b$, and the velocity of your car at time $t$ is $v(t) > 0$, and the position of your car at time $t$ is $x(t)$.\n",
    "\n",
    "### If you record your velocity every second. In other words, let $t_i$ be the moment within the $i^{\\text{th}}$ second when you read the speedometer, and $v(t_i)$ be the velocity of your car at $t_i$. And let $\\Delta t$ be one second. Then $v(t_i) \\cdot \\Delta t$ is an approximation of the distance travelled within the $i^{\\text{th}}$ second, and when we add up all these small distances, we get an approximation of the total distance travelled in the entire journey.\n",
    "## $$ \\sum_{v(t_i)}^{n} v(t_i) \\cdot \\Delta t \\approx x(b) - x(a) \\quad \\text{(Riemann sum approximation)} $$\n",
    "### In other words, the Riemann sum ***approximates*** the total distance travelled by your car in the journey.\n",
    "### On the other hand, the first fundamental theorem says\n",
    "## $$ \\int_{a}^{b} v(t) dt = x(b) - x(a) \\quad \\text{(FTC1)} $$\n",
    "### That is, the definite integral is ***equal*** to the total distance travelled in the whole journey"
   ]
  },
  {
   "cell_type": "markdown",
   "id": "12c56250-57bd-4ba8-a2e6-3638ee3e17b2",
   "metadata": {},
   "source": [
    "## Preparation for definite integrals of general functions\n",
    "\n",
    "### So far, we have only defined and discussed definite integrals for $f\\geq0$. Geometrically, this is the area under the graph of $f$.\n",
    "### But what about definite integrals of general functions, which can be negative?\n",
    "### Recall the statement of FTC1:\n",
    "## $$ \\int_{a}^{b} f(x) dx = F(b) - F(a) $$\n",
    "### where $F'(x) = f(x)$\n",
    "### Notice that the right hand side of the above equation, $F(b) - F(a)$, is still defined even if $f(x)$ is sometimes negative. This is because $F(x)$ is an antiderivative of $f$, and antiderivatives are defined for general functions, not only the non-negative ones.\n",
    "### Therefore, we can use this equation to define $\\int_{a}^{b} f(x) dx$ for a general function $f$. That is, for ***any*** continuous function $f$, let\n",
    "## $$ \\int_{a}^{b} f(x) dx = F(b) - F(a) $$\n",
    "### where $F'(x) = f(x)$\n",
    "### We can apply the equation in FTC1 to evaluate the definite integral of functions that can be negative somewhere."
   ]
  },
  {
   "cell_type": "markdown",
   "id": "208001a7-f644-448e-bfaa-5faedb37b995",
   "metadata": {},
   "source": [
    "## The definite integral of general functions\n",
    "\n",
    "### Since the equation in the statement of FTC1 makes sense for general functions, we can use the FTC1 to extend the definition of the definite integral to functions that are not necessarily non-negative. That is:\n",
    "### For any continuous function $f$ with an antiderivative $F$,\n",
    "## $$ \\int_{a}^{b} f(x) dx = F(b) - F(a) \\quad \\text{(for any continuous}\\,\\,f(x) = F'(x) \\,\\,\\text{)} $$\n",
    "### It turns out that to be consistent with FTC1, the Riemann sum formula for definite integrals does not need to change. In other words, the definite integral of any continuous function $f$ (not necessarily non-negative), from $a$ to $b$, is\n",
    "## $$ \\int_{a}^{b} f(x) dx = \\lim_{n \\to \\infty} \\sum_{i=1}^{n} f(c_i) \\Delta x $$\n",
    "### Here, as before, $\\Delta x = \\frac{b - a}{n}$ is the length of any one of the $n$ subintervals that $[a, b]$ is divided into, and $c_i$ is any point within the $i^{\\text{th}}$ subinterval.\n",
    "![Riemann Sum](img/riem-1.png)\n",
    "\n",
    "### The only difference from the case when $f \\geq 0$ is that $f(c_i)$ can now also be negative. Therefore, $f(c_i)$ is not just the height of the $i^{\\text{th}}$ rectangle, but the height with a sign.\n",
    "### Consequently, the geometric definition of $\\int_{a}^{b} f(x) dx$ that is consistent with FTC1 is as follows.\n",
    "![Integral](img/int-1.png)\n",
    "\n",
    "### $$ \\int_{a}^{b} f(x) dx = \\left[ \\, \\text{Area above x-axis and below }\\, y = f(x) \\right] - \\left[ \\,\\text{Area below x-axis and above}\\, y = f(x) \\right] $$\n",
    "### where the areas considered are between the vertical lines $x=a$ and $x=b$. \n",
    "### The important point is that the area above the $x$-axis is counted with a positive sign and the area below the $x$-axis is counted with a negative sign. In other words, the definite integral of a general function is the ***signed area bounded by the curve $y=f(x)$***.\n",
    "### We will continue to use FTC1, not Riemann sums, to evaluate definite integrals. We will also often use the area interpretation to deduce properties of definite integrals, for example when looking for symmetry.\n"
   ]
  },
  {
   "cell_type": "markdown",
   "id": "4336cba8-5c47-4038-b5a2-1ad368ccc106",
   "metadata": {},
   "source": [
    "## Properties of definite integrals\n",
    "\n",
    "### Here are some properties of definite integrals. \n",
    "### We have discussed and used most of these properties for $f>0$. \n",
    "### The properties below are true for definite integrals for functions which can be negative as well.\n",
    "\n",
    "### Sums:\n",
    "## $$ \\int_{a}^{b} \\left( f(x) + g(x) \\right) dx = \\int_{a}^{b} f(x) dx + \\int_{a}^{b} g(x) dx $$\n",
    "\n",
    "### Constant Multiples:\n",
    "## $$ \\int_{a}^{b} c f(x) dx = c \\int_{a}^{b} f(x) dx \\quad \\text{for any constant } \\, c $$\n",
    "\n",
    "### Same Upper and Lower Limits:\n",
    "## $$ \\int_{a}^{a} f(x) dx = 0 $$\n",
    "\n",
    "### Reversing Limits of Integrals:\n",
    "## $$ \\int_{b}^{a} f(x) dx = - \\int_{a}^{b} f(x) dx \\quad \\text{for any} \\, a,b  $$\n",
    "\n",
    "### Combining Integrals:\n",
    "## $$ \\int_{a}^{c} f(x) dx = \\int_{a}^{b} f(x) dx + \\int_{b}^{c} f(x) dx \\quad \\text{for any}\\, a,b,c   $$"
   ]
  },
  {
   "cell_type": "markdown",
   "id": "20584aae-b15d-4692-a72b-2790fe52bf25",
   "metadata": {},
   "source": [
    "## Estimation\n",
    "\n",
    "### If $f(x) \\leq g(x)$, and $a \\leq b$, then\n",
    "## $$ \\int_{a}^{b} f(x) dx \\leq \\int_{a}^{b} g(x) dx \\quad (\\text{for} \\, a \\leq b) $$\n",
    "\n",
    "### Notice that the order of $a$ and $b$ matters for this inequality. If $a \\leq b$, that is, the order of $a$ and $b$ are reversed, then since\n",
    "## $$ - \\int_{a}^{b} f(x) dx = \\int_{b}^{a} f(x) dx $$\n",
    "### and the second integral has the lower limit smaller than the upper limit, we can use the inequality above on the second integral.\n",
    "### This gives\n",
    "## $$ -\\left( \\int_{a}^{b} f(x) dx \\right) = \\int_{b}^{a} f(x) dx \\leq \\int_{b}^{a} g(x) dx = - \\left( \\int_{a}^{b}  g(x) dx \\right) \\quad (b \\leq a) $$\n",
    "\n",
    "### Multiplying this inequality by $-1$ and omitting two integrals in the middle, we get\n",
    "## $$ \\int_{a}^{b} f(x) dx \\geq \\int_{a}^{b} g(x) dx \\quad (b \\leq a) $$\n",
    "### In other words, if the limits of the integrals are reversed, the inequality is also reversed."
   ]
  },
  {
   "cell_type": "markdown",
   "id": "5132cc93-fdb5-4942-86f3-a8ae6f6b8574",
   "metadata": {},
   "source": [
    "## Change of variables for definite integrals\n",
    "\n",
    "### When we make a change of variables of an integral in order to evaluate it, we are using the method of substitution. The method of substitution for definite integrals is exactly analogous to the method of substitution for indefinite integrals, except we now need to pay attention to the limits of the integrals.\n",
    "\n",
    "### If\n",
    "## $$ \\int_{a}^{b} f(x) dx = \\int_{a}^{b} g(u(x)) u'(x) dx $$\n",
    "### and $u'$ does not change sign between $a$ and $b$, then\n",
    "## $$ \\int_{a}^{b} f(x) dx = \\int_{a}^{b} g(u(x)) u'(x) dx = \\int_{u(a)}^{u(b)} g(u) du  $$\n",
    "\n",
    "### That is, the limits of the integral over $u$ are the values of $u$ corresponding to the limits of the integral over $x$."
   ]
  },
  {
   "cell_type": "markdown",
   "id": "c290a2e3-143b-455c-b22d-b13a22a6042e",
   "metadata": {},
   "source": [
    "## Caution for the method of substitution\n",
    "\n",
    "### When we use the method of substitution, we need to be very careful about when $u'$ (or $du$) changes sign. \n",
    "### If $u'$ changes sign within the integration interval $a, b$, the method of substitution may give the wrong answer. In this case, we need to first rewrite the integral as a sum of two integrals such that within the limits of each integral $u'$ does not change sign, and then use the method of substitution on each integral separately.\n",
    "### Example:\n",
    "## $$ \\int_{-1}^{1} x^2 dx $$\n",
    "### Here is an example to show what goes wrong and how to use the method of substitution correctly if $u'$ changes sign within the limits of the integral. It is just for illustrative purpose because we can easily compute this integral without using the method of substitution.\n",
    "### First, $\\int_{-1}^{1} x^2 dx \\neq 0$ by direct computation using FTC1 or by the fact that the area under $y=x^2$ between $-1$ and $1$ is non-zero.\n",
    "### On the other hand, if we use the method of substitution and let $u=x^2$, then $du = 2x dx$. Notice $du$ changes sign at $x=0$, which is between the lower and upper limits of the integral. Now, if we make the mistake of applying substitution directly, we get\n",
    "## $$ \\int_{-1}^{1} x^2 dx = \\int_{u=(-1)^2}^{u=1^2} u \\cdot \\frac{du}{2 \\sqrt{u}} = \\int_{1}^{1} u \\cdot \\frac{du}{2 \\sqrt{u}} = 0 $$\n",
    "### This is clearly incorrect\n",
    "\n",
    "### *** Using substitution correctly ***\n",
    "### To use the substitution $u=x^2$ correctly, we need to first break the integral into two pieces so that $u'$ does not change sign within the limits of each of the two integral. Since $u'$ changes sign at $0$, we will break the integral into two at $0$.\n",
    "## $$ \\int_{-1}^{1} x^2 dx = \\int_{-1}^{0} x^2 dx + \\int_{0}^{1} x^2 dx $$\n",
    "### Then, since $x^2$ is even, \n",
    "## $$ \\int_{-1}^{1} x^2 dx = 2 \\int_{0}^{1} x^2 dx $$\n",
    "### Since $u'$ does not change sign within $[0, 1]$, we can use the method of substitution with $u=x^2$ on $\\int_{0}^{1} x^2 dx$.\n",
    "## $$ \\int_{0}^{1} x^2 dx = \\int_{(0)^2}^{1^2} u \\cdot \\frac{du}{2 \\sqrt{u}} = \\frac{1}{2} \\left. \\left( \\frac{2}{3} u^{\\frac{3}{2}}  \\right) \\right|_0^1 = \\frac{1}{3}  $$\n",
    "### This gives $\\int_{-1}^{1} x^2 dx = \\frac{2}{3}$, which s the correct answer\n",
    "\n",
    "### ***Explanation***\n",
    "### So what went wrong when we apply this substitution $\\int_{-1}^{1} x^2 dx$? What happens is that when $u'$ changes sign, $u$ must be sometimes increasing and sometimes decreasing. But this means that $u(x)$ does not have a well-defined inverse. That is, there is not one formula $x=x(u)$ that works in the whole interval of integration. In this example,\n",
    "## $$ x = \\left\\{ \\begin{array} \\ + \\sqrt{u} \\quad \\text{if} \\, x \\geq 0 \\\\ - \\sqrt{u} \\quad \\text{if} \\, x \\leq 0 \\end{array} \\right. $$\n"
   ]
  },
  {
   "cell_type": "markdown",
   "id": "ca97aadb-9fd5-4410-b49a-65721afac01a",
   "metadata": {},
   "source": [
    "## Comparing FTC1 with MVT\n",
    "\n",
    "### Let $F(x)$ be differentiable on $[a, b]$. And let\n",
    "## $$ \\Delta F = F(b) - F(a) $$\n",
    "## $$ \\Delta x = b - a $$\n",
    "\n",
    "### The ***MVT*** implies:\n",
    "## $$ \\frac{\\Delta F}{\\Delta x} = F'(x) \\quad \\text{for some }\\, c, a < c < b $$\n",
    "\n",
    "### The ***FTC1*** implies:\n",
    "## $$ \\frac{\\Delta F}{\\Delta x} = \\frac{1}{b-a} \\int_{a}^{b} F'(x) dx $$"
   ]
  },
  {
   "cell_type": "markdown",
   "id": "95d5afdf-a0e1-4140-ba80-39c589ee0565",
   "metadata": {},
   "source": [
    "## FTC1 versus MVT\n",
    "\n",
    "### Let us compare what the First Fundamental Theorem of Calculus and what the Mean Value Theorem say about the average rate of change of a function.\n",
    "\n",
    "### We see that the FTC1 gives a specific value for $\\frac{\\Delta F}{\\Delta x}$, the average rate of change of $F$ over $[a, b]$, but the MVT does not, since it does not tell us where  is.\n",
    "### Therefore, the First Fundamental Theorem is much more useful than the Mean Value Theorem. Once we have FTC1 at our disposal, we do not need to use MVT anymore. Nonetheless, the Mean Value Theorem is important as the basis of calculus. We needed it to establish the fact that two antiderivatives of the same function can only differ by a constant. We will need this fact again in order to finally prove FTC1 along with FTC2 in the next section."
   ]
  },
  {
   "cell_type": "markdown",
   "id": "b2bea109-d553-4afa-bf4d-7e129a00dd72",
   "metadata": {},
   "source": [
    "## Differentiating the integral of a constant\n",
    "\n",
    "### Let us start again with the definite integral $\\int_{a}^{b} m dt$ of a constant $m>0$.\n",
    "### But this time, we will let the upper limit of the integral vary and rename it to $x$ (in place of $b$). In other words, define\n",
    "## $$ F(x) = \\int_{a}^{x} m dt, \\quad m>0 $$\n",
    "### As the upper limit  of the integral changes, the value of the integral changes.\n",
    "![Integral of a constant 1](img/constant-integral-upper-x-1.png)\n",
    "### Then\n",
    "## $$ F'(x) = m $$\n",
    "![Integral of a constant 2](img/constant-integral-upper-x-2.png)\n",
    "### The graph $y=F(x)$ is the line with slope $m$, $y$-intercept $-ma$ and $x$-intercept $a$."
   ]
  },
  {
   "cell_type": "markdown",
   "id": "8295a65f-257c-41e9-a203-6efaff874129",
   "metadata": {},
   "source": [
    "## The Second Fundamental Theorem of Calculus\n",
    "\n",
    "### The Second Fundamental Theorem of Calculus states the following.\n",
    "### Given a continuous function $f(x)$. If\n",
    "## $$ G(x) = \\int_{a}^{x} f(t) dt \\quad ( t \\,\\text{between}\\,a\\,\\text{and}\\,x) $$\n",
    "### then\n",
    "## $$ G'(x) = f(x) $$\n",
    "![FTC2](img/ftc2.png)\n",
    "\n",
    "### Geometrically, $G(x)$ is the area under the curve $y=f(t)$ between $a$ and $x$. This area varies as $x$ varies\n",
    "\n",
    "### We will abbreviate this theorem by FTC2.\n",
    "### In terms of differential equations, FTC2 says that $G(x)$ is the solution to the following differential equation and initial condition:\n",
    "## $$ \\begin{array} \\. y' = f & \\text{(differential equation)} \\\\  y(a) = 0 & \\text{(initial condition)} \\end{array} $$\n",
    "\n",
    "### The initial condition $y(a) = 0$ is satisfied because $G(a) = \\int_{a}^{a} f(t) dt = 0 $.\n",
    "### Recall that any function $G$ such that $G' = f$ is an antiderivative of $f$. Hence, FTC2 gives us a formula for an antiderivative of $f(x)$. This formula is different from the formulas you have seen. It is in terms of a definite integral, and is called an ***integral formula***.\n",
    "### ***Note***: The integrand  can be any continuous function, not just the ones whose antiderivative we know how to find. These integral formulas are still useful because there are numerical methods that allow us to compute them."
   ]
  },
  {
   "cell_type": "markdown",
   "id": "ce1e6616-c60c-47c7-9c4d-2e8b6ed958fa",
   "metadata": {},
   "source": [
    "## FTC2 and the chain rule\n",
    "\n",
    "### How to evalueate:\n",
    "## $$ \\frac{d}{dx} \\int_{a}^{u(x)} f(t) dt  $$\n",
    "\n",
    "### In general we can evaluate this using the following procedure:\n",
    "### Let\n",
    "## $$ G(u) = \\int_{a}^{u} ft) dt $$\n",
    "### then\n",
    "## $$ G(u(x)) = \\int_{a}^{u(x)} f(t) dt  $$\n",
    "### That is, decompose the definite integral with $u(x)$ as its upper limit as the composition of the two functions $G(u)$ and $u(x)$. Now, let us apply the chain rule to find its derivative.\n",
    "## $$ \\frac{d}{dx} G(u(x)) = G'(u(x)) * u'(x) \\quad \\text{(chain rule)} $$\n",
    "### or equivalently\n",
    "## $$ \\frac{dG}{dx} = \\left. \\frac{dG}{du} \\right|_{u=u(x)} \\cdot \\frac{du}{dx} $$\n",
    "\n",
    "### where $G'(u(x))$ is the derivative of $G$ with respect to $u$ evaluated at $u(x)$. \n",
    "### Another notation for $G'(u(x))$ is $\\left. \\frac{dG}{du} \\right|_{u=u(x)}$. By FTC2:\n",
    "## $$ G'(u) = f(u) \\quad \\text{(FTC2)} $$\n",
    "### Therefore:\n",
    "## $$ \\frac{d}{dx} G(u(x)) = f(u(x)) \\cdot u'(x) $$\n",
    "## $$ \\frac{d}{dx} \\int_{a}^{u(x)} f(t) dt = f(u(x)) \\cdot u'(x) $$"
   ]
  },
  {
   "cell_type": "markdown",
   "id": "1697ba5c-5cef-41a7-9aee-aefaff95f590",
   "metadata": {},
   "source": [
    "## Proof of FTC2\n",
    "\n",
    "### Recall that FTC2 states that given a continuous function $f$,\n",
    "## $$ F(x) = \\int_{a}^{x} f(t) dt \\implies F'(x) = f(x) $$\n",
    "### To prove this theorem, we will compute the derivative of $F$ by using the geometric picture of $F$. We will prove the case for $f>0$ and you will verify that the same argument works for any $f$.\n",
    "### Recall the definition of the derivative:\n",
    "## $$F'(x) = \\lim_{\\Delta x \\to 0} \\frac{\\Delta F}{\\Delta x} \\quad \\text{where} \\, \\Delta F = F(x + \\Delta x) - F(x) $$\n",
    "![FTC2 Proof 1](img/proof-1.png)\n",
    "\n",
    "### Geometrically:\n",
    "## $$ F(x) = \\int_{a}^{x} f(t) dt \\quad = \\quad \\text{Area between}\\, a \\, \\text{and}\\, x $$\n",
    "## $$ \\Delta F = \\int_{x}^{x+\\Delta x} f(t) dt \\quad = \\quad \\text{Area between}\\, x \\, \\text{and}\\, x + \\Delta x $$\n",
    "### We can approximate $\\Delta F$ by the area of the rectangle with base $\\Delta x$ and height $f(x)$. This gives\n",
    "## $$ \\frac{\\Delta F}{\\Delta x} \\approx \\frac{f(x) \\cdot \\Delta x}{\\Delta x} = f(x) $$\n",
    "### Now since $f$ is continous,\n",
    "## $$ \\lim_{\\Delta x \\to 0} \\frac{\\Delta F}{\\Delta x} = \\lim_{\\Delta x \\to 0} f(x) = f(x) $$\n",
    "### This is equivalent to $F'(x) = f(x)$, which is what we needed to prove"
   ]
  },
  {
   "cell_type": "markdown",
   "id": "bcb5c74d-9e5a-48aa-aba4-fdf7a4fa3d2c",
   "metadata": {},
   "source": [
    "## Proof of FTC1\n",
    "\n",
    "### We will now review the proof from the video.\n",
    "### Recall the statement of FTC1:\n",
    "### Given a differentiable function $F$ with continuous derivative $F'=f$,\n",
    "## $$ \\int_{a}^{b} f(x) dx = F(b) - F(a) $$\n",
    "### First define\n",
    "## $$ G(x) = \\int_{a}^{b} f(t) dt $$\n",
    "### Note that $G(x)$ makes sense as the limit of Riemann sums\n",
    "### Second, since $f$ is continuous, the FTC2 says that\n",
    "## $$ G' = f $$\n",
    "### Now, since $F'=f$, and $G'=f$, both $F$ and $G$ are antiderivatives of $f$. Therefore, as a consequence of the Mean Value Theorem,\n",
    "## $$ F'(x)= G'(x) \\implies F(x)=G(x)+C\t $$\n",
    "### where $C$ is a constant\n",
    "### Finally, we compute $F(b)-F(a)$ in terms of $G$:\n",
    "## $$ \\begin{array} F(b) - F(a) & = & (G(b) + C) - (G(a)+S) \\\\ \\, & = & G(b) - G(a) \\\\ \\, & = & \\int_{a}^{b} f(t) dt - \\int_{a}^{a} f(t) dt \\quad \\text{Definition of }\\,G\\,\\text{)} \\\\ \\, & = & \\int_{a}^{b} f(t) dt - 0 \\\\ \\, & = & \\int_{a}^{b} f(t) dt \\\\ \\end{array} $$\n",
    "### Therefore\n",
    "## $$ \\int_{a}^{b} f(t) dt = F(b) - F(a) $$\n",
    "### This is the statement of FTC1, even though the integration variable is renamed $t$.\n"
   ]
  },
  {
   "cell_type": "markdown",
   "id": "15a3e8e6-0fc2-4e60-8572-e2bdc023e45e",
   "metadata": {},
   "source": [
    "## The fundamental theorems of calculus\n",
    "\n",
    "### Here is another point of view of the two fundamental theorems of calculus together. \n",
    "### ***FTC1***\n",
    "### - Given a differentiable function $F$ with continuous derivative $F'$,\n",
    "## $$ \\int_{a}^{x} F'(t) dt = F(x) - F(a) $$\n",
    "\n",
    "### ***FTC2***\n",
    "### - Given a continuous function $f$,\n",
    "## $$ \\frac{d}{dx} \\int_{a}^{x} f(t) dt = f(x) $$\n",
    "\n",
    "### In other words, FTC1 says that if we start with a function $F$, and first differentiate and then integrate (from $a$ to $x$), we will get back the function $F$ up to a constant, which is given by $F(a)$.\n",
    "\n",
    "### On the other hand, FTC2 says that if we start with a function $f$, and first integrate (from $a$ to $x$) and then differentiate, we will get back to $f$. Notice there is no ambiguity of a constant here.\n",
    "\n",
    "### So, the two fundamental theorems together say that differentiation and integration (from $a$ to $x$) are “inverse\" operations of one another, up to a constant."
   ]
  },
  {
   "cell_type": "markdown",
   "id": "626fa4d4-4c18-4ddb-9218-c8e90bdc6308",
   "metadata": {},
   "source": [
    "## Constructing new functions using integrals\n",
    "\n",
    "### Recall the FTC2 gives the integral formula\n",
    "## $$ G(x) = \\int_{a}^{x} f(t) dt $$\n",
    "### as the solution to the following differential equation and initial condition:\n",
    "## $$ y' = f \\quad \\text{(differential equation)} $$\n",
    "## $$ y(a) = 0 \\quad \\text{(initial condition)} $$\n",
    "### Depending on what the differential equation is, $G(x)$ can be a function we already know. An example is the function we have just seen in the previous problem.\n",
    "## $$ L(x) = \\int_{a}^{x} \\frac{dt}{t} = \\ln(x) \\quad (x \\geq 0) $$\n",
    "### Notice that while the integrand $\\frac{1}{t}$ is a ratio of two polynomials, $L(x)$ cannot be written in terms of polynomials using algebraic operations $+,-,\\cdot,/,sqrt{}_n$. \n",
    "### It is an example of a \"transcendental\" function, a function that “transcends\" algebra.\n",
    "### On the other hand, the solution that FTC2 gives for another differential equation may be a function that cannot be expressed (without an integral) in terms of any function we already know. For example,\n",
    "## $$ F(x) = \\int_{0}^{x} e^{-t^2} dt $$\n",
    "### is the solution to\n",
    "\n",
    "## $$ y' = e^{-x^2} \\quad \\text{(differential notation)} $$\n",
    "## $$ y(0) = 0 \\quad \\text{(initial condition)} $$\n",
    "![Integral](img/transc-1.png)\n",
    "\n",
    "### Geometrically, $F(x) = \\int_{0}^{x} e^{-t^2} dt =\\,$ Area of shaded region\n",
    "\n",
    "### The graph of the integrand $e^{-t^2}$ is called the ***bell curve***.\n",
    "### This function is used extensively in probability.\n",
    "\n",
    "### Finally, even though we may not have explicit formulas for these functions defined by integral formulas, we can apply FTC2 to find their derivatives. Therefore, we have all of our usual tools at our disposal. For example, we can graph them, or approximate them by linear and quadratic approximations."
   ]
  },
  {
   "cell_type": "markdown",
   "id": "eceadabd-3ced-4490-bb43-9ead81404e15",
   "metadata": {},
   "source": [
    "## The integral of the Bell Curve: summary\n",
    "\n",
    "### The integral of the bell curve is an example of a function that cannot be expressed (without using an integral) in terms of functions that we already know.\n",
    "\n",
    "### Recall that the bell curve is the graph of $e^{-t^2}$. As above, let\n",
    "## $$ F(x) = \\int_{0}^{x} e^{-t^2} dt $$\n",
    "![Bell Curve](img/bell.png)\n",
    "### $F(x) = \\int_{0}^{x} e^{-t^2} dt =\\,$ Area of shaded region\n",
    "### Using the first and second derivatives of $F$, we sketched the graph of $F$ as shown below.\n",
    "![Bell Curve](img/bell-2.png)\n",
    "\n",
    "### ***Properties***\n",
    "### Here are two properties of $F$.\n",
    "### 1. $F$ is odd: $F(-x)=-F(x)$\n",
    "### 2. $\\lim_{x \\to \\infty} F(x) = \\frac{ \\sqrt{\\pi} }{2}$,$\\lim_{x \\to -\\infty} F(x) = -\\frac{\\sqrt{\\pi}}{2}$\n",
    "![Bell Curve](img/bell-3.png)\n",
    "### $\\lim_{x \\to \\infty}F(x)=\\,$ Area of shaded region\n",
    "### The graph of $F(x)$ has two horizontal asymptotes at $y=\\frac{\\sqrt{\\pi}}{2}$ and $y=-\\frac{\\sqrt{\\pi}}{2}$.\n",
    "![Bell Curve](img/bell-4.png)\n",
    "\n",
    "## The error function\n",
    "### The ***error function***, denoted by $\\operatorname{ erf}(x)$, is the renormalized version of $F(x)=\\int_{0}^{x} e^{-t^2} dt$ that has horizontal asymptotes at $y=\\pm 1$.\n",
    "## $$ \\operatorname{erf}(x) = \\frac{2}{\\sqrt{\\pi}} F(x) = \\frac{2}{\\sqrt{\\pi}} \\int_{0}^{x} e^{-t^2} dt \\quad \\text{(Error function)} $$\n",
    "\n",
    "### The error function is a new transcendental function to add to your repertoire of functions along with $e^x$, $\\ln(x)$, and trigonometric functions."
   ]
  },
  {
   "cell_type": "markdown",
   "id": "6b733e37-8e12-4a57-bcc1-38cf7938c57a",
   "metadata": {},
   "source": [
    "## More new functions\n",
    "\n",
    "### There are many more new functions that can be defined using integrals, but cannot be expressed in terms of any elementary functions. Here are four more examples.\n",
    "\n",
    "## $$ C(x) = \\int_{0}^{x} \\cos(t^2) dt $$\n",
    "## $$ S(x) = \\int_{0}^{x} \\sin(t^2) dt $$\n",
    "### These are called ***Fresnel Integrals***. \n",
    "\n",
    "### And the function\n",
    "## $$ \\operatorname{Li}(x) = \\int_{0}^{x} \\frac{dt}{\\ln(t)} $$\n",
    "### which approximates the number of prime numbers smaller than $x$ and is related to what is known as the ***Riemann Hypothesis***.\n",
    "\n"
   ]
  },
  {
   "cell_type": "markdown",
   "id": "9c13ebdf-c798-4ff7-a3a2-fe86575a00ba",
   "metadata": {},
   "source": [
    "## Properties of H\n",
    "\n",
    "## $$ H(x) = \\int_{0}^{x} h(t) dt \\quad \\text{where} \\quad h(t) = \\left\\{ \\begin{array} \\ 1 & \\text{if}\\, t = 0 \\\\ \\frac{\\sin(t)}{t} & \\text{if}\\, t \\neq 0\\end{array} \\right. $$\n",
    "\n",
    "### This function is used in Fourier analysis.\n",
    "\n",
    "### Recall that the integrand $h(t)$ is continuous since $\\lim_{t \\to 0} \\frac{\\sin(t)}{t} = 1$.\n",
    "![H](img/fun-h.png)\n",
    "## $$ H(x) = \\int_{0}^{x} \\frac{\\sin(t)}{t} dt = \\, \\text{Signed area from 0 to}\\, x $$"
   ]
  },
  {
   "cell_type": "code",
   "execution_count": null,
   "id": "6f2af8d4-0f6b-4125-8e26-01f980b8caeb",
   "metadata": {},
   "outputs": [],
   "source": []
  }
 ],
 "metadata": {
  "kernelspec": {
   "display_name": "Python 3",
   "language": "python",
   "name": "python3"
  },
  "language_info": {
   "codemirror_mode": {
    "name": "ipython",
    "version": 3
   },
   "file_extension": ".py",
   "mimetype": "text/x-python",
   "name": "python",
   "nbconvert_exporter": "python",
   "pygments_lexer": "ipython3",
   "version": "3.8.8"
  }
 },
 "nbformat": 4,
 "nbformat_minor": 5
}
