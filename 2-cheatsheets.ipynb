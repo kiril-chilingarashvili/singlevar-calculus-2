{
 "cells": [
  {
   "cell_type": "markdown",
   "id": "ff00f360-b601-46f4-8ab4-03a160fa242e",
   "metadata": {},
   "source": [
    "# Unit 2: Integration theory"
   ]
  },
  {
   "cell_type": "markdown",
   "id": "6c4e445d-df09-4885-b26b-efa5e56a246f",
   "metadata": {},
   "source": [
    "## The geometric definition of the definite integral\n",
    "\n",
    "### We will only deal with definite integrals of non-negative functions in this section.\n",
    "### Geometrically, the ***definite integral of $f$ from $a$ to $b$***, denoted by\n",
    "## $$ \\int_{a}^{b} f(x) dx $$\n",
    "### is the area under the graph of $f(x)$ between $a$ and $b$.\n",
    "![Definite Integral](img/definite-integral.png)\n",
    "\n",
    "### More precisely, this definite integral is equal to the area of the region above the $x$-axis, below the curve $y=f(x)$, and in between the two vertical lines $x=a$ and $x=b$, as shown shaded in the figure below.\n",
    "### The $x$-values $a$ and $b$ are called the ***lower and upper limits of the integral***. (This is a different sense of the word \"limit\" from when we take a limit of a function.)\n",
    "### The only difference between the notation for definite and indefinite integrals is that definite integrals have limits but indefinite integrals do not."
   ]
  },
  {
   "cell_type": "markdown",
   "id": "3a849134-4318-4e58-94db-a6a57f85353f",
   "metadata": {},
   "source": [
    "## How to find the area\n",
    "\n",
    "### We will now discuss how to find the area under the graph of a general function $f(x)$ between $a$ and $b$.\n",
    "![Integral](img/integral-1.png)\n",
    "\n",
    "### In general, the region under a curve is not a simple shape whose area we have a formula for. In this case, we will start with an approximation of the area and then take the limit as the approximation approaches the actual area. We will do this in the following three steps.\n",
    "\n",
    "### ***1.*** Divide the region under the curve into “strips\", as shown in the figure below.\n",
    "![Integral](img/integral-2.png)\n",
    "### Approximate the area of each strip by the area of a rectangle.\n",
    "![Integral](img/integral-3.png)\n",
    "### ***2.*** Add up the areas of all the rectangles.\n",
    "### ***3.*** Take the limit as the rectangles become infinitesimally thin.\n",
    "\n",
    "### The main idea is that as the rectangles become thinner and thinner, the difference between the area covered by the rectangles and the area under the curve becomes smaller and smaller. And in the limit when the rectangles are infinitesimally small, these become exactly equal."
   ]
  },
  {
   "cell_type": "markdown",
   "id": "9ae2b9c3-46c8-4710-a73f-deaf19cdd5ca",
   "metadata": {},
   "source": [
    "## Riemann Sum\n",
    "\n",
    "### Let us summarize in precise terms the steps for evaluating $\\int_{a}^{b} f(x) dx$ using a Riemann Sum.\n",
    "\n",
    "### ***1.*** Divide $[a, b]$ into $n$ equal subintervals\n",
    "![Riemann Sum](img/riemann.png)\n",
    "\n",
    "### Then each interval is of length\n",
    "## $$ \\Delta x = \\frac{b - a}{n} $$\n",
    "### Let the $i^{\\text{th}}$ subinterval be the ***base*** of $i^{\\text{th}}$ rectangle\n",
    "\n",
    "### ***2.*** Choose a point $c_i$ within the $i^{\\text{th}}$ subinterval. Choose $f(c_i)$ be the ***height*** of the $i^{\\text{th}}$ rectangle.\n",
    "![Riemann Sum](img/riemann-2.png)\n",
    "\n",
    "### ***3.*** Add up the areas of the n rectangles. Total area of $n$ rectangles is:\n",
    "## $$ \\underbrace{f(c_1)}_{\\text{height}}\\underbrace{\\Delta x}_{\\text{base}} + \\underbrace{f(c_2)}_{\\text{height}}\\underbrace{\\Delta x}_{\\text{base}} + \\ldots + \\underbrace{f(c_n)}_{\\text{height}}\\underbrace{\\Delta x}_{\\text{base}} = \\sum_{i=1}^{n} f(c_i) \\Delta x $$\n",
    "\n",
    "### ***4.*** Take the limit as the rectangles become infinitesimally thin, ($\\Delta x \\to 0$, or equivalent $n \\to \\infty$). This limit is the actual area under the curve between $a$ and $b$.\n",
    "## $$ \\lim_{n \\to \\infty} \\sum_{i=1}^{n} f(c_i) \\Delta x = \\int_{a}^{b} f(x) dx $$\n",
    "\n",
    "### The sum of the areas of the $n$ rectangles, $\\sum_{i=1}^{n} f(c_i) \\Delta x$, is called a ***Riemann Sum***. \n",
    "### If we pick $c_i$ to be the left endpoint of the $i^{\\text{th}}$ subinterval, the Riemann sum is called a ***left Riemann Sum***. \n",
    "### Similarly, if $c_i$ is the right endpoint of the $i^{\\text{th}}$ interval, the Riemann sum is called a ***right Riemann sum***.\n",
    "\n",
    "### However, in the limit $n \\to \\infty$ (so that $\\Delta x \\to 0$), this distinction is no longer needed. The limit of any Riemann Sum, no matter what the $c_i$'s within the subinterval are, is equal to the exact area under the curve.\n"
   ]
  },
  {
   "cell_type": "markdown",
   "id": "768e497b-8a39-43cf-b803-73e1caad79d5",
   "metadata": {},
   "source": []
  },
  {
   "cell_type": "code",
   "execution_count": null,
   "id": "784705c9-ea81-4af7-b956-279996c6318c",
   "metadata": {},
   "outputs": [],
   "source": []
  }
 ],
 "metadata": {
  "kernelspec": {
   "display_name": "Python 3",
   "language": "python",
   "name": "python3"
  },
  "language_info": {
   "codemirror_mode": {
    "name": "ipython",
    "version": 3
   },
   "file_extension": ".py",
   "mimetype": "text/x-python",
   "name": "python",
   "nbconvert_exporter": "python",
   "pygments_lexer": "ipython3",
   "version": "3.8.8"
  }
 },
 "nbformat": 4,
 "nbformat_minor": 5
}
