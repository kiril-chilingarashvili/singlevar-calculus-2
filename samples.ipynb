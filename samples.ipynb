{
 "cells": [
  {
   "cell_type": "code",
   "execution_count": null,
   "id": "9de37a91-0da7-4cdb-ac0f-a68f49c51546",
   "metadata": {},
   "outputs": [],
   "source": [
    "# Once we have an iterative formula, this is something that we can program into a computer! The following python script is the process a computer uses to apply Euler's method for as many steps, and with as small a step size as you want.\n",
    "\n",
    "#set initial condition\n",
    "x0 = 1\n",
    "y0 = 1\n",
    "stepcounter = 0\n",
    "x = x0\n",
    "y = y0\n",
    "\n",
    "#set step size\n",
    "h=0.1\n",
    "\n",
    "#count iterations of method\n",
    "stepcounter = 0\n",
    "\n",
    "#determine how many steps to take\n",
    "while stepcounter < 1000:\n",
    "   y = y+(x+y)*h\n",
    "   x+=h\n",
    "   stepcounter = stepcounter + 1"
   ]
  },
  {
   "cell_type": "code",
   "execution_count": 38,
   "id": "efec760f-8f27-4ecd-8064-bdc065cee11f",
   "metadata": {},
   "outputs": [
    {
     "name": "stdout",
     "output_type": "stream",
     "text": [
      "1\n",
      "4\n",
      "2\n",
      "4\n",
      "1\n",
      "n is 4 sum is 0.9782191109347744\n",
      "1\n",
      "4\n",
      "2\n",
      "4\n",
      "2\n",
      "4\n",
      "2\n",
      "4\n",
      "1\n",
      "n is 8 sum is 0.9775034718861351\n"
     ]
    }
   ],
   "source": [
    "import math\n",
    "\n",
    "def exec(n):\n",
    "    sum = 0.0;\n",
    "    xx = (math.pi/2)**0.5\n",
    "    cur = 4\n",
    "    deltax = xx/n\n",
    "    for x in range(n+1):\n",
    "        t = x*deltax\n",
    "#         print(t, type(t))\n",
    "        if x == 0 or x == n:\n",
    "            c = 1\n",
    "        else:\n",
    "            c = cur\n",
    "            if cur == 4:\n",
    "                cur = 2\n",
    "            else:\n",
    "                cur = 4\n",
    "        print(c)\n",
    "        sum = sum + deltax/3*c*math.cos(t**2)\n",
    "\n",
    "    print('n is', n, 'sum is', sum)\n",
    "\n",
    "exec(4)\n",
    "exec(8)"
   ]
  },
  {
   "cell_type": "code",
   "execution_count": null,
   "id": "f08868ac-5ad4-45a4-92ed-a46a58cbd792",
   "metadata": {},
   "outputs": [],
   "source": []
  },
  {
   "cell_type": "code",
   "execution_count": null,
   "id": "111c20c6-2b3d-47dd-b722-62586bb4dfe3",
   "metadata": {},
   "outputs": [],
   "source": []
  }
 ],
 "metadata": {
  "kernelspec": {
   "display_name": "Python 3",
   "language": "python",
   "name": "python3"
  },
  "language_info": {
   "codemirror_mode": {
    "name": "ipython",
    "version": 3
   },
   "file_extension": ".py",
   "mimetype": "text/x-python",
   "name": "python",
   "nbconvert_exporter": "python",
   "pygments_lexer": "ipython3",
   "version": "3.8.8"
  }
 },
 "nbformat": 4,
 "nbformat_minor": 5
}
